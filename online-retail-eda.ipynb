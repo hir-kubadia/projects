{
 "cells": [
  {
   "cell_type": "code",
   "execution_count": 1,
   "id": "b1327856",
   "metadata": {
    "_cell_guid": "b1076dfc-b9ad-4769-8c92-a6c4dae69d19",
    "_uuid": "8f2839f25d086af736a60e9eeb907d3b93b6e0e5",
    "execution": {
     "iopub.execute_input": "2023-04-01T12:47:45.801741Z",
     "iopub.status.busy": "2023-04-01T12:47:45.800207Z",
     "iopub.status.idle": "2023-04-01T12:47:45.821058Z",
     "shell.execute_reply": "2023-04-01T12:47:45.819720Z"
    },
    "papermill": {
     "duration": 0.048138,
     "end_time": "2023-04-01T12:47:45.825135",
     "exception": false,
     "start_time": "2023-04-01T12:47:45.776997",
     "status": "completed"
    },
    "tags": []
   },
   "outputs": [
    {
     "name": "stdout",
     "output_type": "stream",
     "text": [
      "/kaggle/input/onlineretail/OnlineRetail.csv\n"
     ]
    }
   ],
   "source": [
    "# This Python 3 environment comes with many helpful analytics libraries installed\n",
    "# It is defined by the kaggle/python Docker image: https://github.com/kaggle/docker-python\n",
    "# For example, here's several helpful packages to load\n",
    "\n",
    "import numpy as np # linear algebra\n",
    "import pandas as pd # data processing, CSV file I/O (e.g. pd.read_csv)\n",
    "\n",
    "# Input data files are available in the read-only \"../input/\" directory\n",
    "# For example, running this (by clicking run or pressing Shift+Enter) will list all files under the input directory\n",
    "\n",
    "import os\n",
    "for dirname, _, filenames in os.walk('/kaggle/input'):\n",
    "    for filename in filenames:\n",
    "        print(os.path.join(dirname, filename))\n",
    "\n",
    "# You can write up to 20GB to the current directory (/kaggle/working/) that gets preserved as output when you create a version using \"Save & Run All\" \n",
    "# You can also write temporary files to /kaggle/temp/, but they won't be saved outside of the current session"
   ]
  },
  {
   "cell_type": "code",
   "execution_count": 2,
   "id": "7a283d45",
   "metadata": {
    "execution": {
     "iopub.execute_input": "2023-04-01T12:47:45.858940Z",
     "iopub.status.busy": "2023-04-01T12:47:45.858307Z",
     "iopub.status.idle": "2023-04-01T12:47:48.277546Z",
     "shell.execute_reply": "2023-04-01T12:47:48.276729Z"
    },
    "papermill": {
     "duration": 2.437176,
     "end_time": "2023-04-01T12:47:48.279581",
     "exception": false,
     "start_time": "2023-04-01T12:47:45.842405",
     "status": "completed"
    },
    "tags": []
   },
   "outputs": [
    {
     "data": {
      "text/html": [
       "<div>\n",
       "<style scoped>\n",
       "    .dataframe tbody tr th:only-of-type {\n",
       "        vertical-align: middle;\n",
       "    }\n",
       "\n",
       "    .dataframe tbody tr th {\n",
       "        vertical-align: top;\n",
       "    }\n",
       "\n",
       "    .dataframe thead th {\n",
       "        text-align: right;\n",
       "    }\n",
       "</style>\n",
       "<table border=\"1\" class=\"dataframe\">\n",
       "  <thead>\n",
       "    <tr style=\"text-align: right;\">\n",
       "      <th></th>\n",
       "      <th>InvoiceNo</th>\n",
       "      <th>StockCode</th>\n",
       "      <th>Description</th>\n",
       "      <th>Quantity</th>\n",
       "      <th>InvoiceDate</th>\n",
       "      <th>UnitPrice</th>\n",
       "      <th>CustomerID</th>\n",
       "      <th>Country</th>\n",
       "      <th>Total Amount</th>\n",
       "    </tr>\n",
       "  </thead>\n",
       "  <tbody>\n",
       "    <tr>\n",
       "      <th>0</th>\n",
       "      <td>536365</td>\n",
       "      <td>85123A</td>\n",
       "      <td>WHITE HANGING HEART T-LIGHT HOLDER</td>\n",
       "      <td>6</td>\n",
       "      <td>12/1/2010 8:26</td>\n",
       "      <td>2.55</td>\n",
       "      <td>17850.0</td>\n",
       "      <td>United Kingdom</td>\n",
       "      <td>15.30</td>\n",
       "    </tr>\n",
       "    <tr>\n",
       "      <th>1</th>\n",
       "      <td>536365</td>\n",
       "      <td>71053</td>\n",
       "      <td>WHITE METAL LANTERN</td>\n",
       "      <td>6</td>\n",
       "      <td>12/1/2010 8:26</td>\n",
       "      <td>3.39</td>\n",
       "      <td>17850.0</td>\n",
       "      <td>United Kingdom</td>\n",
       "      <td>20.34</td>\n",
       "    </tr>\n",
       "    <tr>\n",
       "      <th>2</th>\n",
       "      <td>536365</td>\n",
       "      <td>84406B</td>\n",
       "      <td>CREAM CUPID HEARTS COAT HANGER</td>\n",
       "      <td>8</td>\n",
       "      <td>12/1/2010 8:26</td>\n",
       "      <td>2.75</td>\n",
       "      <td>17850.0</td>\n",
       "      <td>United Kingdom</td>\n",
       "      <td>22.00</td>\n",
       "    </tr>\n",
       "    <tr>\n",
       "      <th>3</th>\n",
       "      <td>536365</td>\n",
       "      <td>84029G</td>\n",
       "      <td>KNITTED UNION FLAG HOT WATER BOTTLE</td>\n",
       "      <td>6</td>\n",
       "      <td>12/1/2010 8:26</td>\n",
       "      <td>3.39</td>\n",
       "      <td>17850.0</td>\n",
       "      <td>United Kingdom</td>\n",
       "      <td>20.34</td>\n",
       "    </tr>\n",
       "    <tr>\n",
       "      <th>4</th>\n",
       "      <td>536365</td>\n",
       "      <td>84029E</td>\n",
       "      <td>RED WOOLLY HOTTIE WHITE HEART.</td>\n",
       "      <td>6</td>\n",
       "      <td>12/1/2010 8:26</td>\n",
       "      <td>3.39</td>\n",
       "      <td>17850.0</td>\n",
       "      <td>United Kingdom</td>\n",
       "      <td>20.34</td>\n",
       "    </tr>\n",
       "  </tbody>\n",
       "</table>\n",
       "</div>"
      ],
      "text/plain": [
       "  InvoiceNo StockCode                          Description  Quantity  \\\n",
       "0    536365    85123A   WHITE HANGING HEART T-LIGHT HOLDER         6   \n",
       "1    536365     71053                  WHITE METAL LANTERN         6   \n",
       "2    536365    84406B       CREAM CUPID HEARTS COAT HANGER         8   \n",
       "3    536365    84029G  KNITTED UNION FLAG HOT WATER BOTTLE         6   \n",
       "4    536365    84029E       RED WOOLLY HOTTIE WHITE HEART.         6   \n",
       "\n",
       "      InvoiceDate  UnitPrice  CustomerID         Country  Total Amount  \n",
       "0  12/1/2010 8:26       2.55     17850.0  United Kingdom         15.30  \n",
       "1  12/1/2010 8:26       3.39     17850.0  United Kingdom         20.34  \n",
       "2  12/1/2010 8:26       2.75     17850.0  United Kingdom         22.00  \n",
       "3  12/1/2010 8:26       3.39     17850.0  United Kingdom         20.34  \n",
       "4  12/1/2010 8:26       3.39     17850.0  United Kingdom         20.34  "
      ]
     },
     "execution_count": 2,
     "metadata": {},
     "output_type": "execute_result"
    }
   ],
   "source": [
    "import matplotlib.pyplot as plt\n",
    "import seaborn as sns\n",
    "import scipy.stats as stats\n",
    "\n",
    "df = pd.read_csv(\"/kaggle/input/onlineretail/OnlineRetail.csv\", encoding = \"unicode-escape\")\n",
    "df[\"Total Amount\"] = df[\"Quantity\"] * df[\"UnitPrice\"] # Total Amount is the total amount of each product (quantity) * unit price\n",
    "df.head()"
   ]
  },
  {
   "cell_type": "code",
   "execution_count": 3,
   "id": "945f11b7",
   "metadata": {
    "execution": {
     "iopub.execute_input": "2023-04-01T12:47:48.305691Z",
     "iopub.status.busy": "2023-04-01T12:47:48.305123Z",
     "iopub.status.idle": "2023-04-01T12:47:48.424422Z",
     "shell.execute_reply": "2023-04-01T12:47:48.423662Z"
    },
    "papermill": {
     "duration": 0.134601,
     "end_time": "2023-04-01T12:47:48.426391",
     "exception": false,
     "start_time": "2023-04-01T12:47:48.291790",
     "status": "completed"
    },
    "tags": []
   },
   "outputs": [
    {
     "data": {
      "text/html": [
       "<div>\n",
       "<style scoped>\n",
       "    .dataframe tbody tr th:only-of-type {\n",
       "        vertical-align: middle;\n",
       "    }\n",
       "\n",
       "    .dataframe tbody tr th {\n",
       "        vertical-align: top;\n",
       "    }\n",
       "\n",
       "    .dataframe thead th {\n",
       "        text-align: right;\n",
       "    }\n",
       "</style>\n",
       "<table border=\"1\" class=\"dataframe\">\n",
       "  <thead>\n",
       "    <tr style=\"text-align: right;\">\n",
       "      <th></th>\n",
       "      <th>Quantity</th>\n",
       "      <th>UnitPrice</th>\n",
       "      <th>CustomerID</th>\n",
       "      <th>Total Amount</th>\n",
       "    </tr>\n",
       "  </thead>\n",
       "  <tbody>\n",
       "    <tr>\n",
       "      <th>count</th>\n",
       "      <td>541909.000000</td>\n",
       "      <td>541909.000000</td>\n",
       "      <td>406829.000000</td>\n",
       "      <td>541909.000000</td>\n",
       "    </tr>\n",
       "    <tr>\n",
       "      <th>mean</th>\n",
       "      <td>9.552250</td>\n",
       "      <td>4.611114</td>\n",
       "      <td>15287.690570</td>\n",
       "      <td>17.987795</td>\n",
       "    </tr>\n",
       "    <tr>\n",
       "      <th>std</th>\n",
       "      <td>218.081158</td>\n",
       "      <td>96.759853</td>\n",
       "      <td>1713.600303</td>\n",
       "      <td>378.810824</td>\n",
       "    </tr>\n",
       "    <tr>\n",
       "      <th>min</th>\n",
       "      <td>-80995.000000</td>\n",
       "      <td>-11062.060000</td>\n",
       "      <td>12346.000000</td>\n",
       "      <td>-168469.600000</td>\n",
       "    </tr>\n",
       "    <tr>\n",
       "      <th>25%</th>\n",
       "      <td>1.000000</td>\n",
       "      <td>1.250000</td>\n",
       "      <td>13953.000000</td>\n",
       "      <td>3.400000</td>\n",
       "    </tr>\n",
       "    <tr>\n",
       "      <th>50%</th>\n",
       "      <td>3.000000</td>\n",
       "      <td>2.080000</td>\n",
       "      <td>15152.000000</td>\n",
       "      <td>9.750000</td>\n",
       "    </tr>\n",
       "    <tr>\n",
       "      <th>75%</th>\n",
       "      <td>10.000000</td>\n",
       "      <td>4.130000</td>\n",
       "      <td>16791.000000</td>\n",
       "      <td>17.400000</td>\n",
       "    </tr>\n",
       "    <tr>\n",
       "      <th>max</th>\n",
       "      <td>80995.000000</td>\n",
       "      <td>38970.000000</td>\n",
       "      <td>18287.000000</td>\n",
       "      <td>168469.600000</td>\n",
       "    </tr>\n",
       "  </tbody>\n",
       "</table>\n",
       "</div>"
      ],
      "text/plain": [
       "            Quantity      UnitPrice     CustomerID   Total Amount\n",
       "count  541909.000000  541909.000000  406829.000000  541909.000000\n",
       "mean        9.552250       4.611114   15287.690570      17.987795\n",
       "std       218.081158      96.759853    1713.600303     378.810824\n",
       "min    -80995.000000  -11062.060000   12346.000000 -168469.600000\n",
       "25%         1.000000       1.250000   13953.000000       3.400000\n",
       "50%         3.000000       2.080000   15152.000000       9.750000\n",
       "75%        10.000000       4.130000   16791.000000      17.400000\n",
       "max     80995.000000   38970.000000   18287.000000  168469.600000"
      ]
     },
     "execution_count": 3,
     "metadata": {},
     "output_type": "execute_result"
    }
   ],
   "source": [
    "df.describe()"
   ]
  },
  {
   "cell_type": "markdown",
   "id": "b5ac863d",
   "metadata": {
    "papermill": {
     "duration": 0.012682,
     "end_time": "2023-04-01T12:47:48.451965",
     "exception": false,
     "start_time": "2023-04-01T12:47:48.439283",
     "status": "completed"
    },
    "tags": []
   },
   "source": [
    "## Frequancy Distribution and fitting of normal distribution"
   ]
  },
  {
   "cell_type": "code",
   "execution_count": 4,
   "id": "67ec343a",
   "metadata": {
    "execution": {
     "iopub.execute_input": "2023-04-01T12:47:48.478915Z",
     "iopub.status.busy": "2023-04-01T12:47:48.478268Z",
     "iopub.status.idle": "2023-04-01T12:47:48.660339Z",
     "shell.execute_reply": "2023-04-01T12:47:48.659567Z"
    },
    "papermill": {
     "duration": 0.199758,
     "end_time": "2023-04-01T12:47:48.664020",
     "exception": false,
     "start_time": "2023-04-01T12:47:48.464262",
     "status": "completed"
    },
    "tags": []
   },
   "outputs": [
    {
     "data": {
      "text/plain": [
       "{'whiskers': [<matplotlib.lines.Line2D at 0x7f4571abf290>,\n",
       "  <matplotlib.lines.Line2D at 0x7f4571a56190>],\n",
       " 'caps': [<matplotlib.lines.Line2D at 0x7f4571a564d0>,\n",
       "  <matplotlib.lines.Line2D at 0x7f4571a56810>],\n",
       " 'boxes': [<matplotlib.lines.Line2D at 0x7f4571abfa50>],\n",
       " 'medians': [<matplotlib.lines.Line2D at 0x7f4571a56b90>],\n",
       " 'fliers': [<matplotlib.lines.Line2D at 0x7f4571a56ed0>],\n",
       " 'means': []}"
      ]
     },
     "execution_count": 4,
     "metadata": {},
     "output_type": "execute_result"
    },
    {
     "data": {
      "image/png": "[encoded data removed]",
      "text/plain": [
       "<Figure size 640x480 with 1 Axes>"
      ]
     },
     "metadata": {},
     "output_type": "display_data"
    }
   ],
   "source": [
    "plt.boxplot(df[\"Quantity\"][(df[\"Quantity\"]>=-10)&(df[\"Quantity\"]<=15)])"
   ]
  },
  {
   "cell_type": "code",
   "execution_count": 5,
   "id": "96320fef",
   "metadata": {
    "execution": {
     "iopub.execute_input": "2023-04-01T12:47:48.701042Z",
     "iopub.status.busy": "2023-04-01T12:47:48.700690Z",
     "iopub.status.idle": "2023-04-01T12:47:48.734029Z",
     "shell.execute_reply": "2023-04-01T12:47:48.732978Z"
    },
    "papermill": {
     "duration": 0.049778,
     "end_time": "2023-04-01T12:47:48.736262",
     "exception": false,
     "start_time": "2023-04-01T12:47:48.686484",
     "status": "completed"
    },
    "tags": []
   },
   "outputs": [
    {
     "data": {
      "text/html": [
       "<div>\n",
       "<style scoped>\n",
       "    .dataframe tbody tr th:only-of-type {\n",
       "        vertical-align: middle;\n",
       "    }\n",
       "\n",
       "    .dataframe tbody tr th {\n",
       "        vertical-align: top;\n",
       "    }\n",
       "\n",
       "    .dataframe thead th {\n",
       "        text-align: right;\n",
       "    }\n",
       "</style>\n",
       "<table border=\"1\" class=\"dataframe\">\n",
       "  <thead>\n",
       "    <tr style=\"text-align: right;\">\n",
       "      <th></th>\n",
       "      <th>Class</th>\n",
       "      <th>Frequency</th>\n",
       "    </tr>\n",
       "  </thead>\n",
       "  <tbody>\n",
       "    <tr>\n",
       "      <th>0</th>\n",
       "      <td>-10--9</td>\n",
       "      <td>284</td>\n",
       "    </tr>\n",
       "    <tr>\n",
       "      <th>1</th>\n",
       "      <td>-8--7</td>\n",
       "      <td>276</td>\n",
       "    </tr>\n",
       "    <tr>\n",
       "      <th>2</th>\n",
       "      <td>-6--5</td>\n",
       "      <td>753</td>\n",
       "    </tr>\n",
       "    <tr>\n",
       "      <th>3</th>\n",
       "      <td>-4--3</td>\n",
       "      <td>1122</td>\n",
       "    </tr>\n",
       "    <tr>\n",
       "      <th>4</th>\n",
       "      <td>-2--1</td>\n",
       "      <td>5579</td>\n",
       "    </tr>\n",
       "    <tr>\n",
       "      <th>5</th>\n",
       "      <td>0-1</td>\n",
       "      <td>148227</td>\n",
       "    </tr>\n",
       "    <tr>\n",
       "      <th>6</th>\n",
       "      <td>2-3</td>\n",
       "      <td>118950</td>\n",
       "    </tr>\n",
       "    <tr>\n",
       "      <th>7</th>\n",
       "      <td>4-5</td>\n",
       "      <td>50241</td>\n",
       "    </tr>\n",
       "    <tr>\n",
       "      <th>8</th>\n",
       "      <td>6-7</td>\n",
       "      <td>43782</td>\n",
       "    </tr>\n",
       "    <tr>\n",
       "      <th>9</th>\n",
       "      <td>8-9</td>\n",
       "      <td>15166</td>\n",
       "    </tr>\n",
       "    <tr>\n",
       "      <th>10</th>\n",
       "      <td>10-11</td>\n",
       "      <td>23244</td>\n",
       "    </tr>\n",
       "    <tr>\n",
       "      <th>11</th>\n",
       "      <td>12-13</td>\n",
       "      <td>62217</td>\n",
       "    </tr>\n",
       "  </tbody>\n",
       "</table>\n",
       "</div>"
      ],
      "text/plain": [
       "     Class  Frequency\n",
       "0   -10--9        284\n",
       "1    -8--7        276\n",
       "2    -6--5        753\n",
       "3    -4--3       1122\n",
       "4    -2--1       5579\n",
       "5      0-1     148227\n",
       "6      2-3     118950\n",
       "7      4-5      50241\n",
       "8      6-7      43782\n",
       "9      8-9      15166\n",
       "10   10-11      23244\n",
       "11   12-13      62217"
      ]
     },
     "execution_count": 5,
     "metadata": {},
     "output_type": "execute_result"
    }
   ],
   "source": [
    "data = df[\"Quantity\"][(df[\"Quantity\"]>=-9000)&(df[\"Quantity\"]<=7000)]\n",
    "\n",
    "classes = [i for i in range(-10,15,2)]\n",
    "hist, bins = np.histogram(data, bins=classes)\n",
    "\n",
    "freq_table = pd.DataFrame({'Class': [f\"{bins[i]}-{bins[i+1]-1}\" for i in range(len(bins)-1)],\n",
    "                           'Frequency': hist})\n",
    "\n",
    "freq_table"
   ]
  },
  {
   "cell_type": "code",
   "execution_count": 6,
   "id": "c513c729",
   "metadata": {
    "execution": {
     "iopub.execute_input": "2023-04-01T12:47:48.763524Z",
     "iopub.status.busy": "2023-04-01T12:47:48.763123Z",
     "iopub.status.idle": "2023-04-01T12:47:48.770853Z",
     "shell.execute_reply": "2023-04-01T12:47:48.769980Z"
    },
    "papermill": {
     "duration": 0.023369,
     "end_time": "2023-04-01T12:47:48.772844",
     "exception": false,
     "start_time": "2023-04-01T12:47:48.749475",
     "status": "completed"
    },
    "tags": []
   },
   "outputs": [
    {
     "data": {
      "text/plain": [
       "ModeResult(mode=array([['-10--9', 276]], dtype=object), count=array([[1, 1]]))"
      ]
     },
     "execution_count": 6,
     "metadata": {},
     "output_type": "execute_result"
    }
   ],
   "source": [
    "stats.mode(freq_table)"
   ]
  },
  {
   "cell_type": "code",
   "execution_count": 7,
   "id": "f743cd6c",
   "metadata": {
    "execution": {
     "iopub.execute_input": "2023-04-01T12:47:48.800710Z",
     "iopub.status.busy": "2023-04-01T12:47:48.800356Z",
     "iopub.status.idle": "2023-04-01T12:47:49.054461Z",
     "shell.execute_reply": "2023-04-01T12:47:49.053131Z"
    },
    "papermill": {
     "duration": 0.271233,
     "end_time": "2023-04-01T12:47:49.057123",
     "exception": false,
     "start_time": "2023-04-01T12:47:48.785890",
     "status": "completed"
    },
    "tags": []
   },
   "outputs": [
    {
     "data": {
      "text/plain": [
       "(array([0.00030223, 0.00029372, 0.00080133, 0.00119402, 0.00593711,\n",
       "        0.15774166, 0.12658538, 0.05346596, 0.04659236, 0.0161395 ,\n",
       "        0.02473603, 0.0662107 ]),\n",
       " array([-10,  -8,  -6,  -4,  -2,   0,   2,   4,   6,   8,  10,  12,  14]),\n",
       " <BarContainer object of 12 artists>)"
      ]
     },
     "execution_count": 7,
     "metadata": {},
     "output_type": "execute_result"
    },
    {
     "data": {
      "image/png": "[encoded data removed]",
      "text/plain": [
       "<Figure size 640x480 with 1 Axes>"
      ]
     },
     "metadata": {},
     "output_type": "display_data"
    }
   ],
   "source": [
    "plt.hist(data, bins=classes, density=True, edgecolor=\"black\")"
   ]
  },
  {
   "cell_type": "code",
   "execution_count": 8,
   "id": "143a5b59",
   "metadata": {
    "execution": {
     "iopub.execute_input": "2023-04-01T12:47:49.086625Z",
     "iopub.status.busy": "2023-04-01T12:47:49.085514Z",
     "iopub.status.idle": "2023-04-01T12:47:49.093631Z",
     "shell.execute_reply": "2023-04-01T12:47:49.092873Z"
    },
    "papermill": {
     "duration": 0.024855,
     "end_time": "2023-04-01T12:47:49.095807",
     "exception": false,
     "start_time": "2023-04-01T12:47:49.070952",
     "status": "completed"
    },
    "tags": []
   },
   "outputs": [],
   "source": [
    "mu, std = stats.norm.fit(data)"
   ]
  },
  {
   "cell_type": "markdown",
   "id": "a0700be6",
   "metadata": {
    "papermill": {
     "duration": 0.012756,
     "end_time": "2023-04-01T12:47:49.121783",
     "exception": false,
     "start_time": "2023-04-01T12:47:49.109027",
     "status": "completed"
    },
    "tags": []
   },
   "source": [
    "# What does the .describe() tells in this case\n",
    "\n",
    "* There are -ve values in the quantities as well as unit price column\n",
    "* Mean, Median, Q1,..."
   ]
  },
  {
   "cell_type": "code",
   "execution_count": null,
   "id": "30a2cf30",
   "metadata": {
    "papermill": {
     "duration": 0.013002,
     "end_time": "2023-04-01T12:47:49.147834",
     "exception": false,
     "start_time": "2023-04-01T12:47:49.134832",
     "status": "completed"
    },
    "tags": []
   },
   "outputs": [],
   "source": []
  },
  {
   "cell_type": "markdown",
   "id": "648f7c1b",
   "metadata": {
    "papermill": {
     "duration": 0.012883,
     "end_time": "2023-04-01T12:47:49.173891",
     "exception": false,
     "start_time": "2023-04-01T12:47:49.161008",
     "status": "completed"
    },
    "tags": []
   },
   "source": [
    "# Analysis of Description col"
   ]
  },
  {
   "cell_type": "code",
   "execution_count": 9,
   "id": "e45b9813",
   "metadata": {
    "execution": {
     "iopub.execute_input": "2023-04-01T12:47:49.202865Z",
     "iopub.status.busy": "2023-04-01T12:47:49.201819Z",
     "iopub.status.idle": "2023-04-01T12:47:49.254039Z",
     "shell.execute_reply": "2023-04-01T12:47:49.252864Z"
    },
    "papermill": {
     "duration": 0.069333,
     "end_time": "2023-04-01T12:47:49.256278",
     "exception": false,
     "start_time": "2023-04-01T12:47:49.186945",
     "status": "completed"
    },
    "tags": []
   },
   "outputs": [
    {
     "data": {
      "text/html": [
       "<div>\n",
       "<style scoped>\n",
       "    .dataframe tbody tr th:only-of-type {\n",
       "        vertical-align: middle;\n",
       "    }\n",
       "\n",
       "    .dataframe tbody tr th {\n",
       "        vertical-align: top;\n",
       "    }\n",
       "\n",
       "    .dataframe thead th {\n",
       "        text-align: right;\n",
       "    }\n",
       "</style>\n",
       "<table border=\"1\" class=\"dataframe\">\n",
       "  <thead>\n",
       "    <tr style=\"text-align: right;\">\n",
       "      <th></th>\n",
       "      <th>Description</th>\n",
       "    </tr>\n",
       "  </thead>\n",
       "  <tbody>\n",
       "    <tr>\n",
       "      <th>WHITE HANGING HEART T-LIGHT HOLDER</th>\n",
       "      <td>2369</td>\n",
       "    </tr>\n",
       "    <tr>\n",
       "      <th>REGENCY CAKESTAND 3 TIER</th>\n",
       "      <td>2200</td>\n",
       "    </tr>\n",
       "    <tr>\n",
       "      <th>JUMBO BAG RED RETROSPOT</th>\n",
       "      <td>2159</td>\n",
       "    </tr>\n",
       "    <tr>\n",
       "      <th>PARTY BUNTING</th>\n",
       "      <td>1727</td>\n",
       "    </tr>\n",
       "    <tr>\n",
       "      <th>LUNCH BAG RED RETROSPOT</th>\n",
       "      <td>1638</td>\n",
       "    </tr>\n",
       "  </tbody>\n",
       "</table>\n",
       "</div>"
      ],
      "text/plain": [
       "                                    Description\n",
       "WHITE HANGING HEART T-LIGHT HOLDER         2369\n",
       "REGENCY CAKESTAND 3 TIER                   2200\n",
       "JUMBO BAG RED RETROSPOT                    2159\n",
       "PARTY BUNTING                              1727\n",
       "LUNCH BAG RED RETROSPOT                    1638"
      ]
     },
     "execution_count": 9,
     "metadata": {},
     "output_type": "execute_result"
    }
   ],
   "source": [
    "desc = pd.DataFrame(df[\"Description\"].value_counts(dropna=True,ascending=False))\n",
    "desc.head()"
   ]
  },
  {
   "cell_type": "code",
   "execution_count": 10,
   "id": "a930457a",
   "metadata": {
    "execution": {
     "iopub.execute_input": "2023-04-01T12:47:49.284809Z",
     "iopub.status.busy": "2023-04-01T12:47:49.284441Z",
     "iopub.status.idle": "2023-04-01T12:47:49.298221Z",
     "shell.execute_reply": "2023-04-01T12:47:49.297249Z"
    },
    "papermill": {
     "duration": 0.030541,
     "end_time": "2023-04-01T12:47:49.300437",
     "exception": false,
     "start_time": "2023-04-01T12:47:49.269896",
     "status": "completed"
    },
    "tags": []
   },
   "outputs": [
    {
     "data": {
      "text/html": [
       "<div>\n",
       "<style scoped>\n",
       "    .dataframe tbody tr th:only-of-type {\n",
       "        vertical-align: middle;\n",
       "    }\n",
       "\n",
       "    .dataframe tbody tr th {\n",
       "        vertical-align: top;\n",
       "    }\n",
       "\n",
       "    .dataframe thead th {\n",
       "        text-align: right;\n",
       "    }\n",
       "</style>\n",
       "<table border=\"1\" class=\"dataframe\">\n",
       "  <thead>\n",
       "    <tr style=\"text-align: right;\">\n",
       "      <th></th>\n",
       "      <th>Description</th>\n",
       "    </tr>\n",
       "  </thead>\n",
       "  <tbody>\n",
       "    <tr>\n",
       "      <th>count</th>\n",
       "      <td>4223.000000</td>\n",
       "    </tr>\n",
       "    <tr>\n",
       "      <th>mean</th>\n",
       "      <td>127.978925</td>\n",
       "    </tr>\n",
       "    <tr>\n",
       "      <th>std</th>\n",
       "      <td>195.034410</td>\n",
       "    </tr>\n",
       "    <tr>\n",
       "      <th>min</th>\n",
       "      <td>1.000000</td>\n",
       "    </tr>\n",
       "    <tr>\n",
       "      <th>25%</th>\n",
       "      <td>11.000000</td>\n",
       "    </tr>\n",
       "    <tr>\n",
       "      <th>50%</th>\n",
       "      <td>57.000000</td>\n",
       "    </tr>\n",
       "    <tr>\n",
       "      <th>75%</th>\n",
       "      <td>161.000000</td>\n",
       "    </tr>\n",
       "    <tr>\n",
       "      <th>max</th>\n",
       "      <td>2369.000000</td>\n",
       "    </tr>\n",
       "  </tbody>\n",
       "</table>\n",
       "</div>"
      ],
      "text/plain": [
       "       Description\n",
       "count  4223.000000\n",
       "mean    127.978925\n",
       "std     195.034410\n",
       "min       1.000000\n",
       "25%      11.000000\n",
       "50%      57.000000\n",
       "75%     161.000000\n",
       "max    2369.000000"
      ]
     },
     "execution_count": 10,
     "metadata": {},
     "output_type": "execute_result"
    }
   ],
   "source": [
    "desc.describe()"
   ]
  },
  {
   "cell_type": "code",
   "execution_count": 11,
   "id": "b614c034",
   "metadata": {
    "execution": {
     "iopub.execute_input": "2023-04-01T12:47:49.328950Z",
     "iopub.status.busy": "2023-04-01T12:47:49.328619Z",
     "iopub.status.idle": "2023-04-01T12:47:49.576649Z",
     "shell.execute_reply": "2023-04-01T12:47:49.575591Z"
    },
    "papermill": {
     "duration": 0.26528,
     "end_time": "2023-04-01T12:47:49.579191",
     "exception": false,
     "start_time": "2023-04-01T12:47:49.313911",
     "status": "completed"
    },
    "tags": []
   },
   "outputs": [
    {
     "data": {
      "text/plain": [
       "<AxesSubplot:>"
      ]
     },
     "execution_count": 11,
     "metadata": {},
     "output_type": "execute_result"
    },
    {
     "data": {
      "image/png": "[encoded data removed]",
      "text/plain": [
       "<Figure size 640x480 with 1 Axes>"
      ]
     },
     "metadata": {},
     "output_type": "display_data"
    }
   ],
   "source": [
    "desc.plot()"
   ]
  },
  {
   "cell_type": "code",
   "execution_count": 12,
   "id": "473ce100",
   "metadata": {
    "execution": {
     "iopub.execute_input": "2023-04-01T12:47:49.609487Z",
     "iopub.status.busy": "2023-04-01T12:47:49.609084Z",
     "iopub.status.idle": "2023-04-01T12:47:49.710390Z",
     "shell.execute_reply": "2023-04-01T12:47:49.709561Z"
    },
    "papermill": {
     "duration": 0.119068,
     "end_time": "2023-04-01T12:47:49.712908",
     "exception": false,
     "start_time": "2023-04-01T12:47:49.593840",
     "status": "completed"
    },
    "tags": []
   },
   "outputs": [],
   "source": [
    "df_desc = df.groupby(\"Description\")[[\"Quantity\",\"UnitPrice\"]].sum()\n",
    "df_desc[\"total_amount\"] = df_desc[\"Quantity\"]*df_desc[\"UnitPrice\"]\n",
    "df_desc = df_desc.sort_values(\"Quantity\")"
   ]
  },
  {
   "cell_type": "code",
   "execution_count": 13,
   "id": "d2a465d3",
   "metadata": {
    "execution": {
     "iopub.execute_input": "2023-04-01T12:47:49.743340Z",
     "iopub.status.busy": "2023-04-01T12:47:49.742641Z",
     "iopub.status.idle": "2023-04-01T12:47:49.748087Z",
     "shell.execute_reply": "2023-04-01T12:47:49.747214Z"
    },
    "papermill": {
     "duration": 0.022758,
     "end_time": "2023-04-01T12:47:49.750219",
     "exception": false,
     "start_time": "2023-04-01T12:47:49.727461",
     "status": "completed"
    },
    "tags": []
   },
   "outputs": [],
   "source": [
    "desc.rename(columns = {\"Description\":\"Count\"}, inplace=True)"
   ]
  },
  {
   "cell_type": "code",
   "execution_count": 14,
   "id": "aed9aa90",
   "metadata": {
    "execution": {
     "iopub.execute_input": "2023-04-01T12:47:49.780169Z",
     "iopub.status.busy": "2023-04-01T12:47:49.779483Z",
     "iopub.status.idle": "2023-04-01T12:47:49.799936Z",
     "shell.execute_reply": "2023-04-01T12:47:49.798916Z"
    },
    "papermill": {
     "duration": 0.037675,
     "end_time": "2023-04-01T12:47:49.802151",
     "exception": false,
     "start_time": "2023-04-01T12:47:49.764476",
     "status": "completed"
    },
    "tags": []
   },
   "outputs": [
    {
     "data": {
      "text/html": [
       "<div>\n",
       "<style scoped>\n",
       "    .dataframe tbody tr th:only-of-type {\n",
       "        vertical-align: middle;\n",
       "    }\n",
       "\n",
       "    .dataframe tbody tr th {\n",
       "        vertical-align: top;\n",
       "    }\n",
       "\n",
       "    .dataframe thead th {\n",
       "        text-align: right;\n",
       "    }\n",
       "</style>\n",
       "<table border=\"1\" class=\"dataframe\">\n",
       "  <thead>\n",
       "    <tr style=\"text-align: right;\">\n",
       "      <th></th>\n",
       "      <th>Count</th>\n",
       "      <th>Quantity</th>\n",
       "      <th>UnitPrice</th>\n",
       "      <th>total_amount</th>\n",
       "    </tr>\n",
       "    <tr>\n",
       "      <th>Description</th>\n",
       "      <th></th>\n",
       "      <th></th>\n",
       "      <th></th>\n",
       "      <th></th>\n",
       "    </tr>\n",
       "  </thead>\n",
       "  <tbody>\n",
       "    <tr>\n",
       "      <th>printing smudges/thrown away</th>\n",
       "      <td>2</td>\n",
       "      <td>-19200</td>\n",
       "      <td>0.00</td>\n",
       "      <td>-0.000000e+00</td>\n",
       "    </tr>\n",
       "    <tr>\n",
       "      <th>Unsaleable, destroyed.</th>\n",
       "      <td>9</td>\n",
       "      <td>-15644</td>\n",
       "      <td>0.00</td>\n",
       "      <td>-0.000000e+00</td>\n",
       "    </tr>\n",
       "    <tr>\n",
       "      <th>check</th>\n",
       "      <td>159</td>\n",
       "      <td>-12030</td>\n",
       "      <td>0.00</td>\n",
       "      <td>-0.000000e+00</td>\n",
       "    </tr>\n",
       "    <tr>\n",
       "      <th>Printing smudges/thrown away</th>\n",
       "      <td>1</td>\n",
       "      <td>-9058</td>\n",
       "      <td>0.00</td>\n",
       "      <td>-0.000000e+00</td>\n",
       "    </tr>\n",
       "    <tr>\n",
       "      <th>Damaged</th>\n",
       "      <td>14</td>\n",
       "      <td>-7540</td>\n",
       "      <td>0.00</td>\n",
       "      <td>-0.000000e+00</td>\n",
       "    </tr>\n",
       "    <tr>\n",
       "      <th>...</th>\n",
       "      <td>...</td>\n",
       "      <td>...</td>\n",
       "      <td>...</td>\n",
       "      <td>...</td>\n",
       "    </tr>\n",
       "    <tr>\n",
       "      <th>PACK OF 72 RETROSPOT CAKE CASES</th>\n",
       "      <td>1385</td>\n",
       "      <td>36039</td>\n",
       "      <td>1047.04</td>\n",
       "      <td>3.773427e+07</td>\n",
       "    </tr>\n",
       "    <tr>\n",
       "      <th>POPCORN HOLDER</th>\n",
       "      <td>865</td>\n",
       "      <td>36334</td>\n",
       "      <td>874.50</td>\n",
       "      <td>3.177408e+07</td>\n",
       "    </tr>\n",
       "    <tr>\n",
       "      <th>ASSORTED COLOUR BIRD ORNAMENT</th>\n",
       "      <td>1501</td>\n",
       "      <td>36381</td>\n",
       "      <td>2584.77</td>\n",
       "      <td>9.403652e+07</td>\n",
       "    </tr>\n",
       "    <tr>\n",
       "      <th>JUMBO BAG RED RETROSPOT</th>\n",
       "      <td>2159</td>\n",
       "      <td>47363</td>\n",
       "      <td>5333.30</td>\n",
       "      <td>2.526011e+08</td>\n",
       "    </tr>\n",
       "    <tr>\n",
       "      <th>WORLD WAR 2 GLIDERS ASSTD DESIGNS</th>\n",
       "      <td>542</td>\n",
       "      <td>53847</td>\n",
       "      <td>173.39</td>\n",
       "      <td>9.336531e+06</td>\n",
       "    </tr>\n",
       "  </tbody>\n",
       "</table>\n",
       "<p>4223 rows × 4 columns</p>\n",
       "</div>"
      ],
      "text/plain": [
       "                                   Count  Quantity  UnitPrice  total_amount\n",
       "Description                                                                \n",
       "printing smudges/thrown away           2    -19200       0.00 -0.000000e+00\n",
       "Unsaleable, destroyed.                 9    -15644       0.00 -0.000000e+00\n",
       "check                                159    -12030       0.00 -0.000000e+00\n",
       "Printing smudges/thrown away           1     -9058       0.00 -0.000000e+00\n",
       "Damaged                               14     -7540       0.00 -0.000000e+00\n",
       "...                                  ...       ...        ...           ...\n",
       "PACK OF 72 RETROSPOT CAKE CASES     1385     36039    1047.04  3.773427e+07\n",
       "POPCORN HOLDER                       865     36334     874.50  3.177408e+07\n",
       "ASSORTED COLOUR BIRD ORNAMENT       1501     36381    2584.77  9.403652e+07\n",
       "JUMBO BAG RED RETROSPOT             2159     47363    5333.30  2.526011e+08\n",
       "WORLD WAR 2 GLIDERS ASSTD DESIGNS    542     53847     173.39  9.336531e+06\n",
       "\n",
       "[4223 rows x 4 columns]"
      ]
     },
     "execution_count": 14,
     "metadata": {},
     "output_type": "execute_result"
    }
   ],
   "source": [
    "df_desc = df_desc.join(desc)\n",
    "df_desc = df_desc[[\"Count\",\"Quantity\",\"UnitPrice\",\"total_amount\"]]\n",
    "df_desc"
   ]
  },
  {
   "cell_type": "code",
   "execution_count": 15,
   "id": "261569e2",
   "metadata": {
    "execution": {
     "iopub.execute_input": "2023-04-01T12:47:49.833614Z",
     "iopub.status.busy": "2023-04-01T12:47:49.833122Z",
     "iopub.status.idle": "2023-04-01T12:47:49.849027Z",
     "shell.execute_reply": "2023-04-01T12:47:49.848074Z"
    },
    "papermill": {
     "duration": 0.034104,
     "end_time": "2023-04-01T12:47:49.851277",
     "exception": false,
     "start_time": "2023-04-01T12:47:49.817173",
     "status": "completed"
    },
    "tags": []
   },
   "outputs": [
    {
     "data": {
      "text/html": [
       "<div>\n",
       "<style scoped>\n",
       "    .dataframe tbody tr th:only-of-type {\n",
       "        vertical-align: middle;\n",
       "    }\n",
       "\n",
       "    .dataframe tbody tr th {\n",
       "        vertical-align: top;\n",
       "    }\n",
       "\n",
       "    .dataframe thead th {\n",
       "        text-align: right;\n",
       "    }\n",
       "</style>\n",
       "<table border=\"1\" class=\"dataframe\">\n",
       "  <thead>\n",
       "    <tr style=\"text-align: right;\">\n",
       "      <th></th>\n",
       "      <th>Count</th>\n",
       "      <th>Quantity</th>\n",
       "      <th>UnitPrice</th>\n",
       "      <th>total_amount</th>\n",
       "    </tr>\n",
       "    <tr>\n",
       "      <th>Description</th>\n",
       "      <th></th>\n",
       "      <th></th>\n",
       "      <th></th>\n",
       "      <th></th>\n",
       "    </tr>\n",
       "  </thead>\n",
       "  <tbody>\n",
       "    <tr>\n",
       "      <th>AMAZON FEE</th>\n",
       "      <td>34</td>\n",
       "      <td>-30</td>\n",
       "      <td>249042.680</td>\n",
       "      <td>-7471280</td>\n",
       "    </tr>\n",
       "    <tr>\n",
       "      <th>Discount</th>\n",
       "      <td>77</td>\n",
       "      <td>-1194</td>\n",
       "      <td>5581.310</td>\n",
       "      <td>-6664084</td>\n",
       "    </tr>\n",
       "    <tr>\n",
       "      <th>SAMPLES</th>\n",
       "      <td>63</td>\n",
       "      <td>-59</td>\n",
       "      <td>3175.490</td>\n",
       "      <td>-187353</td>\n",
       "    </tr>\n",
       "    <tr>\n",
       "      <th>CRUK Commission</th>\n",
       "      <td>16</td>\n",
       "      <td>-16</td>\n",
       "      <td>7933.430</td>\n",
       "      <td>-126934</td>\n",
       "    </tr>\n",
       "    <tr>\n",
       "      <th>Bank Charges</th>\n",
       "      <td>37</td>\n",
       "      <td>-13</td>\n",
       "      <td>7505.641</td>\n",
       "      <td>-97573</td>\n",
       "    </tr>\n",
       "    <tr>\n",
       "      <th>...</th>\n",
       "      <td>...</td>\n",
       "      <td>...</td>\n",
       "      <td>...</td>\n",
       "      <td>...</td>\n",
       "    </tr>\n",
       "    <tr>\n",
       "      <th>PARTY BUNTING</th>\n",
       "      <td>1727</td>\n",
       "      <td>18022</td>\n",
       "      <td>9979.620</td>\n",
       "      <td>179852711</td>\n",
       "    </tr>\n",
       "    <tr>\n",
       "      <th>JUMBO BAG RED RETROSPOT</th>\n",
       "      <td>2159</td>\n",
       "      <td>47363</td>\n",
       "      <td>5333.300</td>\n",
       "      <td>252601087</td>\n",
       "    </tr>\n",
       "    <tr>\n",
       "      <th>WHITE HANGING HEART T-LIGHT HOLDER</th>\n",
       "      <td>2369</td>\n",
       "      <td>35317</td>\n",
       "      <td>7590.870</td>\n",
       "      <td>268086755</td>\n",
       "    </tr>\n",
       "    <tr>\n",
       "      <th>REGENCY CAKESTAND 3 TIER</th>\n",
       "      <td>2200</td>\n",
       "      <td>13033</td>\n",
       "      <td>30360.610</td>\n",
       "      <td>395689830</td>\n",
       "    </tr>\n",
       "    <tr>\n",
       "      <th>Manual</th>\n",
       "      <td>572</td>\n",
       "      <td>3165</td>\n",
       "      <td>214450.960</td>\n",
       "      <td>678737288</td>\n",
       "    </tr>\n",
       "  </tbody>\n",
       "</table>\n",
       "<p>4223 rows × 4 columns</p>\n",
       "</div>"
      ],
      "text/plain": [
       "                                    Count  Quantity   UnitPrice  total_amount\n",
       "Description                                                                  \n",
       "AMAZON FEE                             34       -30  249042.680      -7471280\n",
       "Discount                               77     -1194    5581.310      -6664084\n",
       "SAMPLES                                63       -59    3175.490       -187353\n",
       "CRUK Commission                        16       -16    7933.430       -126934\n",
       "Bank Charges                           37       -13    7505.641        -97573\n",
       "...                                   ...       ...         ...           ...\n",
       "PARTY BUNTING                        1727     18022    9979.620     179852711\n",
       "JUMBO BAG RED RETROSPOT              2159     47363    5333.300     252601087\n",
       "WHITE HANGING HEART T-LIGHT HOLDER   2369     35317    7590.870     268086755\n",
       "REGENCY CAKESTAND 3 TIER             2200     13033   30360.610     395689830\n",
       "Manual                                572      3165  214450.960     678737288\n",
       "\n",
       "[4223 rows x 4 columns]"
      ]
     },
     "execution_count": 15,
     "metadata": {},
     "output_type": "execute_result"
    }
   ],
   "source": [
    "df_desc['total_amount'] = df_desc['total_amount'].astype('int64')\n",
    "df_desc.sort_values(\"total_amount\")"
   ]
  },
  {
   "cell_type": "code",
   "execution_count": null,
   "id": "5efc780a",
   "metadata": {
    "papermill": {
     "duration": 0.014268,
     "end_time": "2023-04-01T12:47:49.880369",
     "exception": false,
     "start_time": "2023-04-01T12:47:49.866101",
     "status": "completed"
    },
    "tags": []
   },
   "outputs": [],
   "source": []
  },
  {
   "cell_type": "code",
   "execution_count": 16,
   "id": "51534de8",
   "metadata": {
    "execution": {
     "iopub.execute_input": "2023-04-01T12:47:49.911726Z",
     "iopub.status.busy": "2023-04-01T12:47:49.910862Z",
     "iopub.status.idle": "2023-04-01T12:47:49.922024Z",
     "shell.execute_reply": "2023-04-01T12:47:49.921233Z"
    },
    "papermill": {
     "duration": 0.029545,
     "end_time": "2023-04-01T12:47:49.924222",
     "exception": false,
     "start_time": "2023-04-01T12:47:49.894677",
     "status": "completed"
    },
    "tags": []
   },
   "outputs": [
    {
     "data": {
      "text/plain": [
       "count    4.223000e+03\n",
       "mean     1.694207e+06\n",
       "std      1.479042e+07\n",
       "min     -7.471280e+06\n",
       "25%      1.089000e+03\n",
       "50%      4.227300e+04\n",
       "75%      3.740885e+05\n",
       "max      6.787373e+08\n",
       "Name: total_amount, dtype: float64"
      ]
     },
     "execution_count": 16,
     "metadata": {},
     "output_type": "execute_result"
    }
   ],
   "source": [
    "df_desc[\"total_amount\"].astype(\"int64\").describe()"
   ]
  },
  {
   "cell_type": "code",
   "execution_count": 17,
   "id": "92c0b837",
   "metadata": {
    "execution": {
     "iopub.execute_input": "2023-04-01T12:47:49.955738Z",
     "iopub.status.busy": "2023-04-01T12:47:49.955061Z",
     "iopub.status.idle": "2023-04-01T12:47:50.193966Z",
     "shell.execute_reply": "2023-04-01T12:47:50.192910Z"
    },
    "papermill": {
     "duration": 0.257054,
     "end_time": "2023-04-01T12:47:50.196195",
     "exception": false,
     "start_time": "2023-04-01T12:47:49.939141",
     "status": "completed"
    },
    "tags": []
   },
   "outputs": [
    {
     "data": {
      "text/plain": [
       "<AxesSubplot:xlabel='Description'>"
      ]
     },
     "execution_count": 17,
     "metadata": {},
     "output_type": "execute_result"
    },
    {
     "data": {
      "image/png": "[encoded data removed]",
      "text/plain": [
       "<Figure size 640x480 with 1 Axes>"
      ]
     },
     "metadata": {},
     "output_type": "display_data"
    }
   ],
   "source": [
    "df_desc.sort_values('total_amount')[\"total_amount\"][df_desc[\"total_amount\"]<1.694207e+06].plot()"
   ]
  },
  {
   "cell_type": "code",
   "execution_count": 18,
   "id": "04c2a979",
   "metadata": {
    "execution": {
     "iopub.execute_input": "2023-04-01T12:47:50.228986Z",
     "iopub.status.busy": "2023-04-01T12:47:50.228602Z",
     "iopub.status.idle": "2023-04-01T12:47:50.464407Z",
     "shell.execute_reply": "2023-04-01T12:47:50.463325Z"
    },
    "papermill": {
     "duration": 0.254628,
     "end_time": "2023-04-01T12:47:50.466566",
     "exception": false,
     "start_time": "2023-04-01T12:47:50.211938",
     "status": "completed"
    },
    "tags": []
   },
   "outputs": [
    {
     "data": {
      "text/plain": [
       "<matplotlib.collections.PathCollection at 0x7f4571723c10>"
      ]
     },
     "execution_count": 18,
     "metadata": {},
     "output_type": "execute_result"
    },
    {
     "data": {
      "image/png": "[encoded data removed]",
      "text/plain": [
       "<Figure size 640x480 with 1 Axes>"
      ]
     },
     "metadata": {},
     "output_type": "display_data"
    }
   ],
   "source": [
    "plt.scatter(range(len(df_desc[\"total_amount\"][(df_desc[\"total_amount\"]>=0) & (df_desc[\"total_amount\"]<=100000)])),df_desc[\"total_amount\"][(df_desc[\"total_amount\"]>=0) & (df_desc[\"total_amount\"]<=100000)],s=0.1)"
   ]
  },
  {
   "cell_type": "code",
   "execution_count": 19,
   "id": "ec9571d6",
   "metadata": {
    "execution": {
     "iopub.execute_input": "2023-04-01T12:47:50.500927Z",
     "iopub.status.busy": "2023-04-01T12:47:50.500537Z",
     "iopub.status.idle": "2023-04-01T12:47:50.504985Z",
     "shell.execute_reply": "2023-04-01T12:47:50.504059Z"
    },
    "papermill": {
     "duration": 0.0239,
     "end_time": "2023-04-01T12:47:50.506954",
     "exception": false,
     "start_time": "2023-04-01T12:47:50.483054",
     "status": "completed"
    },
    "tags": []
   },
   "outputs": [],
   "source": [
    "#sns.countplot(x = df['Description'], data = df)"
   ]
  },
  {
   "cell_type": "markdown",
   "id": "1deb3346",
   "metadata": {
    "papermill": {
     "duration": 0.015872,
     "end_time": "2023-04-01T12:47:50.538967",
     "exception": false,
     "start_time": "2023-04-01T12:47:50.523095",
     "status": "completed"
    },
    "tags": []
   },
   "source": [
    "# Plots of each numeric col"
   ]
  },
  {
   "cell_type": "code",
   "execution_count": 20,
   "id": "7764d794",
   "metadata": {
    "execution": {
     "iopub.execute_input": "2023-04-01T12:47:50.574272Z",
     "iopub.status.busy": "2023-04-01T12:47:50.573417Z",
     "iopub.status.idle": "2023-04-01T12:47:53.441715Z",
     "shell.execute_reply": "2023-04-01T12:47:53.440590Z"
    },
    "papermill": {
     "duration": 2.888726,
     "end_time": "2023-04-01T12:47:53.443977",
     "exception": false,
     "start_time": "2023-04-01T12:47:50.555251",
     "status": "completed"
    },
    "tags": []
   },
   "outputs": [
    {
     "data": {
      "text/plain": [
       "Text(0.5, 1.0, 'Quantity')"
      ]
     },
     "execution_count": 20,
     "metadata": {},
     "output_type": "execute_result"
    },
    {
     "data": {
      "image/png": "[encoded data removed]",
      "text/plain": [
       "<Figure size 640x480 with 1 Axes>"
      ]
     },
     "metadata": {},
     "output_type": "display_data"
    }
   ],
   "source": [
    "plt.scatter(range(len(df[\"Quantity\"][(df[\"Quantity\"]>=0) & (df[\"Quantity\"]<=50)])),sorted(df[\"Quantity\"][(df[\"Quantity\"]>0) & (df[\"Quantity\"]<=50)]),s=0.2)\n",
    "plt.title(\"Quantity\")"
   ]
  },
  {
   "cell_type": "code",
   "execution_count": 21,
   "id": "67fed736",
   "metadata": {
    "execution": {
     "iopub.execute_input": "2023-04-01T12:47:53.480136Z",
     "iopub.status.busy": "2023-04-01T12:47:53.479510Z",
     "iopub.status.idle": "2023-04-01T12:47:56.486214Z",
     "shell.execute_reply": "2023-04-01T12:47:56.485221Z"
    },
    "papermill": {
     "duration": 3.02746,
     "end_time": "2023-04-01T12:47:56.488360",
     "exception": false,
     "start_time": "2023-04-01T12:47:53.460900",
     "status": "completed"
    },
    "tags": []
   },
   "outputs": [
    {
     "data": {
      "text/plain": [
       "Text(0.5, 1.0, 'Total Amount')"
      ]
     },
     "execution_count": 21,
     "metadata": {},
     "output_type": "execute_result"
    },
    {
     "data": {
      "image/png": "[encoded data removed]",
      "text/plain": [
       "<Figure size 640x480 with 1 Axes>"
      ]
     },
     "metadata": {},
     "output_type": "display_data"
    }
   ],
   "source": [
    "plt.scatter(range(len(df[\"Total Amount\"][(df[\"Total Amount\"]>=0) & (df[\"Total Amount\"]<=100)])),sorted(df[\"Total Amount\"][(df[\"Total Amount\"]>=0) & (df[\"Total Amount\"]<=100)]),s=0.2)\n",
    "plt.title(\"Total Amount\")"
   ]
  },
  {
   "cell_type": "code",
   "execution_count": 22,
   "id": "8d8e977d",
   "metadata": {
    "execution": {
     "iopub.execute_input": "2023-04-01T12:47:56.524294Z",
     "iopub.status.busy": "2023-04-01T12:47:56.523931Z",
     "iopub.status.idle": "2023-04-01T12:47:59.621372Z",
     "shell.execute_reply": "2023-04-01T12:47:59.620351Z"
    },
    "papermill": {
     "duration": 3.118181,
     "end_time": "2023-04-01T12:47:59.623819",
     "exception": false,
     "start_time": "2023-04-01T12:47:56.505638",
     "status": "completed"
    },
    "tags": []
   },
   "outputs": [
    {
     "data": {
      "text/plain": [
       "Text(0.5, 1.0, 'UnitPrice')"
      ]
     },
     "execution_count": 22,
     "metadata": {},
     "output_type": "execute_result"
    },
    {
     "data": {
      "image/png": "[encoded data removed]",
      "text/plain": [
       "<Figure size 640x480 with 1 Axes>"
      ]
     },
     "metadata": {},
     "output_type": "display_data"
    }
   ],
   "source": [
    "plt.scatter(range(len(df[\"UnitPrice\"][(df[\"UnitPrice\"]>=0) & (df[\"UnitPrice\"]<=20)])),sorted(df[\"UnitPrice\"][(df[\"UnitPrice\"]>=0) & (df[\"UnitPrice\"]<=20)]),s=0.2)\n",
    "plt.title(\"UnitPrice\")"
   ]
  },
  {
   "cell_type": "markdown",
   "id": "f98b784a",
   "metadata": {
    "papermill": {
     "duration": 0.017412,
     "end_time": "2023-04-01T12:47:59.659205",
     "exception": false,
     "start_time": "2023-04-01T12:47:59.641793",
     "status": "completed"
    },
    "tags": []
   },
   "source": [
    "# Analysis of Quantity Col"
   ]
  },
  {
   "cell_type": "code",
   "execution_count": 23,
   "id": "b9ed7d2a",
   "metadata": {
    "execution": {
     "iopub.execute_input": "2023-04-01T12:47:59.696383Z",
     "iopub.status.busy": "2023-04-01T12:47:59.695970Z",
     "iopub.status.idle": "2023-04-01T12:47:59.841320Z",
     "shell.execute_reply": "2023-04-01T12:47:59.840372Z"
    },
    "papermill": {
     "duration": 0.166748,
     "end_time": "2023-04-01T12:47:59.843579",
     "exception": false,
     "start_time": "2023-04-01T12:47:59.676831",
     "status": "completed"
    },
    "tags": []
   },
   "outputs": [
    {
     "data": {
      "text/html": [
       "<div>\n",
       "<style scoped>\n",
       "    .dataframe tbody tr th:only-of-type {\n",
       "        vertical-align: middle;\n",
       "    }\n",
       "\n",
       "    .dataframe tbody tr th {\n",
       "        vertical-align: top;\n",
       "    }\n",
       "\n",
       "    .dataframe thead th {\n",
       "        text-align: right;\n",
       "    }\n",
       "</style>\n",
       "<table border=\"1\" class=\"dataframe\">\n",
       "  <thead>\n",
       "    <tr style=\"text-align: right;\">\n",
       "      <th></th>\n",
       "      <th>InvoiceNo</th>\n",
       "      <th>StockCode</th>\n",
       "      <th>Description</th>\n",
       "      <th>Quantity</th>\n",
       "      <th>InvoiceDate</th>\n",
       "      <th>UnitPrice</th>\n",
       "      <th>CustomerID</th>\n",
       "      <th>Country</th>\n",
       "      <th>Total Amount</th>\n",
       "    </tr>\n",
       "  </thead>\n",
       "  <tbody>\n",
       "    <tr>\n",
       "      <th>540422</th>\n",
       "      <td>C581484</td>\n",
       "      <td>23843</td>\n",
       "      <td>PAPER CRAFT , LITTLE BIRDIE</td>\n",
       "      <td>-80995</td>\n",
       "      <td>12/9/2011 9:27</td>\n",
       "      <td>2.08</td>\n",
       "      <td>16446.0</td>\n",
       "      <td>United Kingdom</td>\n",
       "      <td>-168469.6</td>\n",
       "    </tr>\n",
       "    <tr>\n",
       "      <th>61624</th>\n",
       "      <td>C541433</td>\n",
       "      <td>23166</td>\n",
       "      <td>MEDIUM CERAMIC TOP STORAGE JAR</td>\n",
       "      <td>-74215</td>\n",
       "      <td>1/18/2011 10:17</td>\n",
       "      <td>1.04</td>\n",
       "      <td>12346.0</td>\n",
       "      <td>United Kingdom</td>\n",
       "      <td>-77183.6</td>\n",
       "    </tr>\n",
       "    <tr>\n",
       "      <th>225529</th>\n",
       "      <td>556690</td>\n",
       "      <td>23005</td>\n",
       "      <td>printing smudges/thrown away</td>\n",
       "      <td>-9600</td>\n",
       "      <td>6/14/2011 10:37</td>\n",
       "      <td>0.00</td>\n",
       "      <td>NaN</td>\n",
       "      <td>United Kingdom</td>\n",
       "      <td>-0.0</td>\n",
       "    </tr>\n",
       "    <tr>\n",
       "      <th>225530</th>\n",
       "      <td>556691</td>\n",
       "      <td>23005</td>\n",
       "      <td>printing smudges/thrown away</td>\n",
       "      <td>-9600</td>\n",
       "      <td>6/14/2011 10:37</td>\n",
       "      <td>0.00</td>\n",
       "      <td>NaN</td>\n",
       "      <td>United Kingdom</td>\n",
       "      <td>-0.0</td>\n",
       "    </tr>\n",
       "    <tr>\n",
       "      <th>4287</th>\n",
       "      <td>C536757</td>\n",
       "      <td>84347</td>\n",
       "      <td>ROTATING SILVER ANGELS T-LIGHT HLDR</td>\n",
       "      <td>-9360</td>\n",
       "      <td>12/2/2010 14:23</td>\n",
       "      <td>0.03</td>\n",
       "      <td>15838.0</td>\n",
       "      <td>United Kingdom</td>\n",
       "      <td>-280.8</td>\n",
       "    </tr>\n",
       "    <tr>\n",
       "      <th>...</th>\n",
       "      <td>...</td>\n",
       "      <td>...</td>\n",
       "      <td>...</td>\n",
       "      <td>...</td>\n",
       "      <td>...</td>\n",
       "      <td>...</td>\n",
       "      <td>...</td>\n",
       "      <td>...</td>\n",
       "      <td>...</td>\n",
       "    </tr>\n",
       "    <tr>\n",
       "      <th>421632</th>\n",
       "      <td>573008</td>\n",
       "      <td>84077</td>\n",
       "      <td>WORLD WAR 2 GLIDERS ASSTD DESIGNS</td>\n",
       "      <td>4800</td>\n",
       "      <td>10/27/2011 12:26</td>\n",
       "      <td>0.21</td>\n",
       "      <td>12901.0</td>\n",
       "      <td>United Kingdom</td>\n",
       "      <td>1008.0</td>\n",
       "    </tr>\n",
       "    <tr>\n",
       "      <th>74614</th>\n",
       "      <td>542504</td>\n",
       "      <td>37413</td>\n",
       "      <td>NaN</td>\n",
       "      <td>5568</td>\n",
       "      <td>1/28/2011 12:03</td>\n",
       "      <td>0.00</td>\n",
       "      <td>NaN</td>\n",
       "      <td>United Kingdom</td>\n",
       "      <td>0.0</td>\n",
       "    </tr>\n",
       "    <tr>\n",
       "      <th>502122</th>\n",
       "      <td>578841</td>\n",
       "      <td>84826</td>\n",
       "      <td>ASSTD DESIGN 3D PAPER STICKERS</td>\n",
       "      <td>12540</td>\n",
       "      <td>11/25/2011 15:57</td>\n",
       "      <td>0.00</td>\n",
       "      <td>13256.0</td>\n",
       "      <td>United Kingdom</td>\n",
       "      <td>0.0</td>\n",
       "    </tr>\n",
       "    <tr>\n",
       "      <th>61619</th>\n",
       "      <td>541431</td>\n",
       "      <td>23166</td>\n",
       "      <td>MEDIUM CERAMIC TOP STORAGE JAR</td>\n",
       "      <td>74215</td>\n",
       "      <td>1/18/2011 10:01</td>\n",
       "      <td>1.04</td>\n",
       "      <td>12346.0</td>\n",
       "      <td>United Kingdom</td>\n",
       "      <td>77183.6</td>\n",
       "    </tr>\n",
       "    <tr>\n",
       "      <th>540421</th>\n",
       "      <td>581483</td>\n",
       "      <td>23843</td>\n",
       "      <td>PAPER CRAFT , LITTLE BIRDIE</td>\n",
       "      <td>80995</td>\n",
       "      <td>12/9/2011 9:15</td>\n",
       "      <td>2.08</td>\n",
       "      <td>16446.0</td>\n",
       "      <td>United Kingdom</td>\n",
       "      <td>168469.6</td>\n",
       "    </tr>\n",
       "  </tbody>\n",
       "</table>\n",
       "<p>541909 rows × 9 columns</p>\n",
       "</div>"
      ],
      "text/plain": [
       "       InvoiceNo StockCode                          Description  Quantity  \\\n",
       "540422   C581484     23843          PAPER CRAFT , LITTLE BIRDIE    -80995   \n",
       "61624    C541433     23166       MEDIUM CERAMIC TOP STORAGE JAR    -74215   \n",
       "225529    556690     23005         printing smudges/thrown away     -9600   \n",
       "225530    556691     23005         printing smudges/thrown away     -9600   \n",
       "4287     C536757     84347  ROTATING SILVER ANGELS T-LIGHT HLDR     -9360   \n",
       "...          ...       ...                                  ...       ...   \n",
       "421632    573008     84077    WORLD WAR 2 GLIDERS ASSTD DESIGNS      4800   \n",
       "74614     542504     37413                                  NaN      5568   \n",
       "502122    578841     84826       ASSTD DESIGN 3D PAPER STICKERS     12540   \n",
       "61619     541431     23166       MEDIUM CERAMIC TOP STORAGE JAR     74215   \n",
       "540421    581483     23843          PAPER CRAFT , LITTLE BIRDIE     80995   \n",
       "\n",
       "             InvoiceDate  UnitPrice  CustomerID         Country  Total Amount  \n",
       "540422    12/9/2011 9:27       2.08     16446.0  United Kingdom     -168469.6  \n",
       "61624    1/18/2011 10:17       1.04     12346.0  United Kingdom      -77183.6  \n",
       "225529   6/14/2011 10:37       0.00         NaN  United Kingdom          -0.0  \n",
       "225530   6/14/2011 10:37       0.00         NaN  United Kingdom          -0.0  \n",
       "4287     12/2/2010 14:23       0.03     15838.0  United Kingdom        -280.8  \n",
       "...                  ...        ...         ...             ...           ...  \n",
       "421632  10/27/2011 12:26       0.21     12901.0  United Kingdom        1008.0  \n",
       "74614    1/28/2011 12:03       0.00         NaN  United Kingdom           0.0  \n",
       "502122  11/25/2011 15:57       0.00     13256.0  United Kingdom           0.0  \n",
       "61619    1/18/2011 10:01       1.04     12346.0  United Kingdom       77183.6  \n",
       "540421    12/9/2011 9:15       2.08     16446.0  United Kingdom      168469.6  \n",
       "\n",
       "[541909 rows x 9 columns]"
      ]
     },
     "execution_count": 23,
     "metadata": {},
     "output_type": "execute_result"
    }
   ],
   "source": [
    "df.sort_values(\"Quantity\")"
   ]
  },
  {
   "cell_type": "markdown",
   "id": "64472cc7",
   "metadata": {
    "papermill": {
     "duration": 0.017377,
     "end_time": "2023-04-01T12:47:59.878940",
     "exception": false,
     "start_time": "2023-04-01T12:47:59.861563",
     "status": "completed"
    },
    "tags": []
   },
   "source": [
    "Following are the extreme values...\n",
    "\n",
    "## \"Paper Craft, Little Birdie\" amounting 80,995 was purchased and returned\n",
    "## \"Medium Ceramic Top storage bar\" amounting 74,215 was also returned"
   ]
  },
  {
   "cell_type": "code",
   "execution_count": 24,
   "id": "297010f8",
   "metadata": {
    "execution": {
     "iopub.execute_input": "2023-04-01T12:47:59.916534Z",
     "iopub.status.busy": "2023-04-01T12:47:59.915669Z",
     "iopub.status.idle": "2023-04-01T12:47:59.942794Z",
     "shell.execute_reply": "2023-04-01T12:47:59.941854Z"
    },
    "papermill": {
     "duration": 0.048555,
     "end_time": "2023-04-01T12:47:59.945047",
     "exception": false,
     "start_time": "2023-04-01T12:47:59.896492",
     "status": "completed"
    },
    "tags": []
   },
   "outputs": [
    {
     "data": {
      "text/html": [
       "<div>\n",
       "<style scoped>\n",
       "    .dataframe tbody tr th:only-of-type {\n",
       "        vertical-align: middle;\n",
       "    }\n",
       "\n",
       "    .dataframe tbody tr th {\n",
       "        vertical-align: top;\n",
       "    }\n",
       "\n",
       "    .dataframe thead th {\n",
       "        text-align: right;\n",
       "    }\n",
       "</style>\n",
       "<table border=\"1\" class=\"dataframe\">\n",
       "  <thead>\n",
       "    <tr style=\"text-align: right;\">\n",
       "      <th></th>\n",
       "      <th>InvoiceNo</th>\n",
       "      <th>StockCode</th>\n",
       "      <th>Description</th>\n",
       "      <th>Quantity</th>\n",
       "      <th>InvoiceDate</th>\n",
       "      <th>UnitPrice</th>\n",
       "      <th>CustomerID</th>\n",
       "      <th>Country</th>\n",
       "      <th>Total Amount</th>\n",
       "    </tr>\n",
       "  </thead>\n",
       "  <tbody>\n",
       "    <tr>\n",
       "      <th>540422</th>\n",
       "      <td>C581484</td>\n",
       "      <td>23843</td>\n",
       "      <td>PAPER CRAFT , LITTLE BIRDIE</td>\n",
       "      <td>-80995</td>\n",
       "      <td>12/9/2011 9:27</td>\n",
       "      <td>2.08</td>\n",
       "      <td>16446.0</td>\n",
       "      <td>United Kingdom</td>\n",
       "      <td>-168469.60</td>\n",
       "    </tr>\n",
       "    <tr>\n",
       "      <th>61624</th>\n",
       "      <td>C541433</td>\n",
       "      <td>23166</td>\n",
       "      <td>MEDIUM CERAMIC TOP STORAGE JAR</td>\n",
       "      <td>-74215</td>\n",
       "      <td>1/18/2011 10:17</td>\n",
       "      <td>1.04</td>\n",
       "      <td>12346.0</td>\n",
       "      <td>United Kingdom</td>\n",
       "      <td>-77183.60</td>\n",
       "    </tr>\n",
       "    <tr>\n",
       "      <th>225529</th>\n",
       "      <td>556690</td>\n",
       "      <td>23005</td>\n",
       "      <td>printing smudges/thrown away</td>\n",
       "      <td>-9600</td>\n",
       "      <td>6/14/2011 10:37</td>\n",
       "      <td>0.00</td>\n",
       "      <td>NaN</td>\n",
       "      <td>United Kingdom</td>\n",
       "      <td>-0.00</td>\n",
       "    </tr>\n",
       "    <tr>\n",
       "      <th>225530</th>\n",
       "      <td>556691</td>\n",
       "      <td>23005</td>\n",
       "      <td>printing smudges/thrown away</td>\n",
       "      <td>-9600</td>\n",
       "      <td>6/14/2011 10:37</td>\n",
       "      <td>0.00</td>\n",
       "      <td>NaN</td>\n",
       "      <td>United Kingdom</td>\n",
       "      <td>-0.00</td>\n",
       "    </tr>\n",
       "    <tr>\n",
       "      <th>4287</th>\n",
       "      <td>C536757</td>\n",
       "      <td>84347</td>\n",
       "      <td>ROTATING SILVER ANGELS T-LIGHT HLDR</td>\n",
       "      <td>-9360</td>\n",
       "      <td>12/2/2010 14:23</td>\n",
       "      <td>0.03</td>\n",
       "      <td>15838.0</td>\n",
       "      <td>United Kingdom</td>\n",
       "      <td>-280.80</td>\n",
       "    </tr>\n",
       "    <tr>\n",
       "      <th>...</th>\n",
       "      <td>...</td>\n",
       "      <td>...</td>\n",
       "      <td>...</td>\n",
       "      <td>...</td>\n",
       "      <td>...</td>\n",
       "      <td>...</td>\n",
       "      <td>...</td>\n",
       "      <td>...</td>\n",
       "      <td>...</td>\n",
       "    </tr>\n",
       "    <tr>\n",
       "      <th>240697</th>\n",
       "      <td>C558112</td>\n",
       "      <td>22796</td>\n",
       "      <td>PHOTO FRAME 3 CLASSIC HANGING</td>\n",
       "      <td>-1</td>\n",
       "      <td>6/26/2011 16:08</td>\n",
       "      <td>9.95</td>\n",
       "      <td>17114.0</td>\n",
       "      <td>United Kingdom</td>\n",
       "      <td>-9.95</td>\n",
       "    </tr>\n",
       "    <tr>\n",
       "      <th>240696</th>\n",
       "      <td>C558112</td>\n",
       "      <td>23091</td>\n",
       "      <td>ZINC HERB GARDEN CONTAINER</td>\n",
       "      <td>-1</td>\n",
       "      <td>6/26/2011 16:08</td>\n",
       "      <td>6.25</td>\n",
       "      <td>17114.0</td>\n",
       "      <td>United Kingdom</td>\n",
       "      <td>-6.25</td>\n",
       "    </tr>\n",
       "    <tr>\n",
       "      <th>240694</th>\n",
       "      <td>C558112</td>\n",
       "      <td>82486</td>\n",
       "      <td>WOOD S/3 CABINET ANT WHITE FINISH</td>\n",
       "      <td>-1</td>\n",
       "      <td>6/26/2011 16:08</td>\n",
       "      <td>8.95</td>\n",
       "      <td>17114.0</td>\n",
       "      <td>United Kingdom</td>\n",
       "      <td>-8.95</td>\n",
       "    </tr>\n",
       "    <tr>\n",
       "      <th>242447</th>\n",
       "      <td>C558347</td>\n",
       "      <td>S</td>\n",
       "      <td>SAMPLES</td>\n",
       "      <td>-1</td>\n",
       "      <td>6/28/2011 14:47</td>\n",
       "      <td>9.90</td>\n",
       "      <td>NaN</td>\n",
       "      <td>United Kingdom</td>\n",
       "      <td>-9.90</td>\n",
       "    </tr>\n",
       "    <tr>\n",
       "      <th>249284</th>\n",
       "      <td>C558897</td>\n",
       "      <td>M</td>\n",
       "      <td>Manual</td>\n",
       "      <td>-1</td>\n",
       "      <td>7/4/2011 15:55</td>\n",
       "      <td>389.68</td>\n",
       "      <td>12619.0</td>\n",
       "      <td>Germany</td>\n",
       "      <td>-389.68</td>\n",
       "    </tr>\n",
       "  </tbody>\n",
       "</table>\n",
       "<p>10624 rows × 9 columns</p>\n",
       "</div>"
      ],
      "text/plain": [
       "       InvoiceNo StockCode                          Description  Quantity  \\\n",
       "540422   C581484     23843          PAPER CRAFT , LITTLE BIRDIE    -80995   \n",
       "61624    C541433     23166       MEDIUM CERAMIC TOP STORAGE JAR    -74215   \n",
       "225529    556690     23005         printing smudges/thrown away     -9600   \n",
       "225530    556691     23005         printing smudges/thrown away     -9600   \n",
       "4287     C536757     84347  ROTATING SILVER ANGELS T-LIGHT HLDR     -9360   \n",
       "...          ...       ...                                  ...       ...   \n",
       "240697   C558112     22796        PHOTO FRAME 3 CLASSIC HANGING        -1   \n",
       "240696   C558112     23091           ZINC HERB GARDEN CONTAINER        -1   \n",
       "240694   C558112     82486    WOOD S/3 CABINET ANT WHITE FINISH        -1   \n",
       "242447   C558347         S                              SAMPLES        -1   \n",
       "249284   C558897         M                               Manual        -1   \n",
       "\n",
       "            InvoiceDate  UnitPrice  CustomerID         Country  Total Amount  \n",
       "540422   12/9/2011 9:27       2.08     16446.0  United Kingdom    -168469.60  \n",
       "61624   1/18/2011 10:17       1.04     12346.0  United Kingdom     -77183.60  \n",
       "225529  6/14/2011 10:37       0.00         NaN  United Kingdom         -0.00  \n",
       "225530  6/14/2011 10:37       0.00         NaN  United Kingdom         -0.00  \n",
       "4287    12/2/2010 14:23       0.03     15838.0  United Kingdom       -280.80  \n",
       "...                 ...        ...         ...             ...           ...  \n",
       "240697  6/26/2011 16:08       9.95     17114.0  United Kingdom         -9.95  \n",
       "240696  6/26/2011 16:08       6.25     17114.0  United Kingdom         -6.25  \n",
       "240694  6/26/2011 16:08       8.95     17114.0  United Kingdom         -8.95  \n",
       "242447  6/28/2011 14:47       9.90         NaN  United Kingdom         -9.90  \n",
       "249284   7/4/2011 15:55     389.68     12619.0         Germany       -389.68  \n",
       "\n",
       "[10624 rows x 9 columns]"
      ]
     },
     "execution_count": 24,
     "metadata": {},
     "output_type": "execute_result"
    }
   ],
   "source": [
    "df[df[\"Quantity\"]<0].sort_values(\"Quantity\")"
   ]
  },
  {
   "cell_type": "markdown",
   "id": "a9accabd",
   "metadata": {
    "papermill": {
     "duration": 0.017948,
     "end_time": "2023-04-01T12:47:59.982144",
     "exception": false,
     "start_time": "2023-04-01T12:47:59.964196",
     "status": "completed"
    },
    "tags": []
   },
   "source": [
    "# Grouping Invoices and further analysis"
   ]
  },
  {
   "cell_type": "code",
   "execution_count": 25,
   "id": "06b24fe8",
   "metadata": {
    "execution": {
     "iopub.execute_input": "2023-04-01T12:48:00.021120Z",
     "iopub.status.busy": "2023-04-01T12:48:00.019837Z",
     "iopub.status.idle": "2023-04-01T12:48:00.118101Z",
     "shell.execute_reply": "2023-04-01T12:48:00.116974Z"
    },
    "papermill": {
     "duration": 0.120776,
     "end_time": "2023-04-01T12:48:00.120797",
     "exception": false,
     "start_time": "2023-04-01T12:48:00.000021",
     "status": "completed"
    },
    "tags": []
   },
   "outputs": [
    {
     "data": {
      "text/plain": [
       "(25900, 3)"
      ]
     },
     "execution_count": 25,
     "metadata": {},
     "output_type": "execute_result"
    }
   ],
   "source": [
    "df_invoice = df.groupby(\"InvoiceNo\")[[\"Quantity\",\"UnitPrice\",\"Total Amount\"]].sum()\n",
    "df_invoice.shape"
   ]
  },
  {
   "cell_type": "code",
   "execution_count": 26,
   "id": "055b31d7",
   "metadata": {
    "execution": {
     "iopub.execute_input": "2023-04-01T12:48:00.159690Z",
     "iopub.status.busy": "2023-04-01T12:48:00.158799Z",
     "iopub.status.idle": "2023-04-01T12:48:00.179943Z",
     "shell.execute_reply": "2023-04-01T12:48:00.178695Z"
    },
    "papermill": {
     "duration": 0.043414,
     "end_time": "2023-04-01T12:48:00.182499",
     "exception": false,
     "start_time": "2023-04-01T12:48:00.139085",
     "status": "completed"
    },
    "tags": []
   },
   "outputs": [
    {
     "data": {
      "text/html": [
       "<div>\n",
       "<style scoped>\n",
       "    .dataframe tbody tr th:only-of-type {\n",
       "        vertical-align: middle;\n",
       "    }\n",
       "\n",
       "    .dataframe tbody tr th {\n",
       "        vertical-align: top;\n",
       "    }\n",
       "\n",
       "    .dataframe thead th {\n",
       "        text-align: right;\n",
       "    }\n",
       "</style>\n",
       "<table border=\"1\" class=\"dataframe\">\n",
       "  <thead>\n",
       "    <tr style=\"text-align: right;\">\n",
       "      <th></th>\n",
       "      <th>Quantity</th>\n",
       "      <th>UnitPrice</th>\n",
       "      <th>Total Amount</th>\n",
       "    </tr>\n",
       "    <tr>\n",
       "      <th>InvoiceNo</th>\n",
       "      <th></th>\n",
       "      <th></th>\n",
       "      <th></th>\n",
       "    </tr>\n",
       "  </thead>\n",
       "  <tbody>\n",
       "    <tr>\n",
       "      <th>C581484</th>\n",
       "      <td>-80995</td>\n",
       "      <td>2.08</td>\n",
       "      <td>-168469.60</td>\n",
       "    </tr>\n",
       "    <tr>\n",
       "      <th>C541433</th>\n",
       "      <td>-74215</td>\n",
       "      <td>1.04</td>\n",
       "      <td>-77183.60</td>\n",
       "    </tr>\n",
       "    <tr>\n",
       "      <th>C556445</th>\n",
       "      <td>-1</td>\n",
       "      <td>38970.00</td>\n",
       "      <td>-38970.00</td>\n",
       "    </tr>\n",
       "    <tr>\n",
       "      <th>C550456</th>\n",
       "      <td>-9014</td>\n",
       "      <td>15.80</td>\n",
       "      <td>-22998.40</td>\n",
       "    </tr>\n",
       "    <tr>\n",
       "      <th>C580605</th>\n",
       "      <td>-1</td>\n",
       "      <td>17836.46</td>\n",
       "      <td>-17836.46</td>\n",
       "    </tr>\n",
       "    <tr>\n",
       "      <th>C540117</th>\n",
       "      <td>-1</td>\n",
       "      <td>16888.02</td>\n",
       "      <td>-16888.02</td>\n",
       "    </tr>\n",
       "    <tr>\n",
       "      <th>C540118</th>\n",
       "      <td>-1</td>\n",
       "      <td>16453.71</td>\n",
       "      <td>-16453.71</td>\n",
       "    </tr>\n",
       "    <tr>\n",
       "      <th>C537651</th>\n",
       "      <td>-1</td>\n",
       "      <td>13541.33</td>\n",
       "      <td>-13541.33</td>\n",
       "    </tr>\n",
       "    <tr>\n",
       "      <th>C537630</th>\n",
       "      <td>-1</td>\n",
       "      <td>13541.33</td>\n",
       "      <td>-13541.33</td>\n",
       "    </tr>\n",
       "    <tr>\n",
       "      <th>C537644</th>\n",
       "      <td>-1</td>\n",
       "      <td>13474.79</td>\n",
       "      <td>-13474.79</td>\n",
       "    </tr>\n",
       "    <tr>\n",
       "      <th>C570556</th>\n",
       "      <td>-6480</td>\n",
       "      <td>30.41</td>\n",
       "      <td>-11816.64</td>\n",
       "    </tr>\n",
       "    <tr>\n",
       "      <th>C580604</th>\n",
       "      <td>-1</td>\n",
       "      <td>11586.50</td>\n",
       "      <td>-11586.50</td>\n",
       "    </tr>\n",
       "    <tr>\n",
       "      <th>A563187</th>\n",
       "      <td>1</td>\n",
       "      <td>-11062.06</td>\n",
       "      <td>-11062.06</td>\n",
       "    </tr>\n",
       "    <tr>\n",
       "      <th>A563186</th>\n",
       "      <td>1</td>\n",
       "      <td>-11062.06</td>\n",
       "      <td>-11062.06</td>\n",
       "    </tr>\n",
       "    <tr>\n",
       "      <th>C573079</th>\n",
       "      <td>-2</td>\n",
       "      <td>4161.06</td>\n",
       "      <td>-8322.12</td>\n",
       "    </tr>\n",
       "    <tr>\n",
       "      <th>C574902</th>\n",
       "      <td>-1</td>\n",
       "      <td>8286.22</td>\n",
       "      <td>-8286.22</td>\n",
       "    </tr>\n",
       "    <tr>\n",
       "      <th>C551685</th>\n",
       "      <td>-1</td>\n",
       "      <td>8142.75</td>\n",
       "      <td>-8142.75</td>\n",
       "    </tr>\n",
       "    <tr>\n",
       "      <th>C566899</th>\n",
       "      <td>-1</td>\n",
       "      <td>7427.97</td>\n",
       "      <td>-7427.97</td>\n",
       "    </tr>\n",
       "    <tr>\n",
       "      <th>C553355</th>\n",
       "      <td>-1</td>\n",
       "      <td>7006.83</td>\n",
       "      <td>-7006.83</td>\n",
       "    </tr>\n",
       "    <tr>\n",
       "      <th>C551699</th>\n",
       "      <td>-1</td>\n",
       "      <td>6930.00</td>\n",
       "      <td>-6930.00</td>\n",
       "    </tr>\n",
       "    <tr>\n",
       "      <th>C562086</th>\n",
       "      <td>-1</td>\n",
       "      <td>6721.37</td>\n",
       "      <td>-6721.37</td>\n",
       "    </tr>\n",
       "    <tr>\n",
       "      <th>C537652</th>\n",
       "      <td>-1</td>\n",
       "      <td>6706.71</td>\n",
       "      <td>-6706.71</td>\n",
       "    </tr>\n",
       "    <tr>\n",
       "      <th>C564341</th>\n",
       "      <td>-1</td>\n",
       "      <td>6662.51</td>\n",
       "      <td>-6662.51</td>\n",
       "    </tr>\n",
       "    <tr>\n",
       "      <th>C559917</th>\n",
       "      <td>-1</td>\n",
       "      <td>6497.47</td>\n",
       "      <td>-6497.47</td>\n",
       "    </tr>\n",
       "    <tr>\n",
       "      <th>C571750</th>\n",
       "      <td>-2</td>\n",
       "      <td>6068.06</td>\n",
       "      <td>-6068.06</td>\n",
       "    </tr>\n",
       "    <tr>\n",
       "      <th>C573549</th>\n",
       "      <td>-1</td>\n",
       "      <td>5942.57</td>\n",
       "      <td>-5942.57</td>\n",
       "    </tr>\n",
       "    <tr>\n",
       "      <th>C570025</th>\n",
       "      <td>-1</td>\n",
       "      <td>5942.57</td>\n",
       "      <td>-5942.57</td>\n",
       "    </tr>\n",
       "    <tr>\n",
       "      <th>C574897</th>\n",
       "      <td>-1</td>\n",
       "      <td>5877.18</td>\n",
       "      <td>-5877.18</td>\n",
       "    </tr>\n",
       "    <tr>\n",
       "      <th>C553354</th>\n",
       "      <td>-1</td>\n",
       "      <td>5876.40</td>\n",
       "      <td>-5876.40</td>\n",
       "    </tr>\n",
       "    <tr>\n",
       "      <th>C558036</th>\n",
       "      <td>-1</td>\n",
       "      <td>5791.18</td>\n",
       "      <td>-5791.18</td>\n",
       "    </tr>\n",
       "  </tbody>\n",
       "</table>\n",
       "</div>"
      ],
      "text/plain": [
       "           Quantity  UnitPrice  Total Amount\n",
       "InvoiceNo                                   \n",
       "C581484      -80995       2.08    -168469.60\n",
       "C541433      -74215       1.04     -77183.60\n",
       "C556445          -1   38970.00     -38970.00\n",
       "C550456       -9014      15.80     -22998.40\n",
       "C580605          -1   17836.46     -17836.46\n",
       "C540117          -1   16888.02     -16888.02\n",
       "C540118          -1   16453.71     -16453.71\n",
       "C537651          -1   13541.33     -13541.33\n",
       "C537630          -1   13541.33     -13541.33\n",
       "C537644          -1   13474.79     -13474.79\n",
       "C570556       -6480      30.41     -11816.64\n",
       "C580604          -1   11586.50     -11586.50\n",
       "A563187           1  -11062.06     -11062.06\n",
       "A563186           1  -11062.06     -11062.06\n",
       "C573079          -2    4161.06      -8322.12\n",
       "C574902          -1    8286.22      -8286.22\n",
       "C551685          -1    8142.75      -8142.75\n",
       "C566899          -1    7427.97      -7427.97\n",
       "C553355          -1    7006.83      -7006.83\n",
       "C551699          -1    6930.00      -6930.00\n",
       "C562086          -1    6721.37      -6721.37\n",
       "C537652          -1    6706.71      -6706.71\n",
       "C564341          -1    6662.51      -6662.51\n",
       "C559917          -1    6497.47      -6497.47\n",
       "C571750          -2    6068.06      -6068.06\n",
       "C573549          -1    5942.57      -5942.57\n",
       "C570025          -1    5942.57      -5942.57\n",
       "C574897          -1    5877.18      -5877.18\n",
       "C553354          -1    5876.40      -5876.40\n",
       "C558036          -1    5791.18      -5791.18"
      ]
     },
     "execution_count": 26,
     "metadata": {},
     "output_type": "execute_result"
    }
   ],
   "source": [
    "df_invoice.sort_values(\"Total Amount\").head(30)"
   ]
  },
  {
   "cell_type": "code",
   "execution_count": 27,
   "id": "8dc2bc91",
   "metadata": {
    "execution": {
     "iopub.execute_input": "2023-04-01T12:48:00.221927Z",
     "iopub.status.busy": "2023-04-01T12:48:00.221112Z",
     "iopub.status.idle": "2023-04-01T12:48:00.243342Z",
     "shell.execute_reply": "2023-04-01T12:48:00.242256Z"
    },
    "papermill": {
     "duration": 0.044411,
     "end_time": "2023-04-01T12:48:00.245489",
     "exception": false,
     "start_time": "2023-04-01T12:48:00.201078",
     "status": "completed"
    },
    "tags": []
   },
   "outputs": [
    {
     "data": {
      "text/html": [
       "<div>\n",
       "<style scoped>\n",
       "    .dataframe tbody tr th:only-of-type {\n",
       "        vertical-align: middle;\n",
       "    }\n",
       "\n",
       "    .dataframe tbody tr th {\n",
       "        vertical-align: top;\n",
       "    }\n",
       "\n",
       "    .dataframe thead th {\n",
       "        text-align: right;\n",
       "    }\n",
       "</style>\n",
       "<table border=\"1\" class=\"dataframe\">\n",
       "  <thead>\n",
       "    <tr style=\"text-align: right;\">\n",
       "      <th></th>\n",
       "      <th>Quantity</th>\n",
       "      <th>UnitPrice</th>\n",
       "      <th>Total Amount</th>\n",
       "    </tr>\n",
       "  </thead>\n",
       "  <tbody>\n",
       "    <tr>\n",
       "      <th>count</th>\n",
       "      <td>25900.000000</td>\n",
       "      <td>25900.000000</td>\n",
       "      <td>25900.000000</td>\n",
       "    </tr>\n",
       "    <tr>\n",
       "      <th>mean</th>\n",
       "      <td>199.862934</td>\n",
       "      <td>96.478918</td>\n",
       "      <td>376.360924</td>\n",
       "    </tr>\n",
       "    <tr>\n",
       "      <th>std</th>\n",
       "      <td>1108.563551</td>\n",
       "      <td>494.677787</td>\n",
       "      <td>2013.261050</td>\n",
       "    </tr>\n",
       "    <tr>\n",
       "      <th>min</th>\n",
       "      <td>-80995.000000</td>\n",
       "      <td>-11062.060000</td>\n",
       "      <td>-168469.600000</td>\n",
       "    </tr>\n",
       "    <tr>\n",
       "      <th>25%</th>\n",
       "      <td>6.000000</td>\n",
       "      <td>7.410000</td>\n",
       "      <td>11.775000</td>\n",
       "    </tr>\n",
       "    <tr>\n",
       "      <th>50%</th>\n",
       "      <td>100.000000</td>\n",
       "      <td>31.130000</td>\n",
       "      <td>207.535000</td>\n",
       "    </tr>\n",
       "    <tr>\n",
       "      <th>75%</th>\n",
       "      <td>240.000000</td>\n",
       "      <td>75.665000</td>\n",
       "      <td>409.085000</td>\n",
       "    </tr>\n",
       "    <tr>\n",
       "      <th>max</th>\n",
       "      <td>80995.000000</td>\n",
       "      <td>38970.000000</td>\n",
       "      <td>168469.600000</td>\n",
       "    </tr>\n",
       "  </tbody>\n",
       "</table>\n",
       "</div>"
      ],
      "text/plain": [
       "           Quantity     UnitPrice   Total Amount\n",
       "count  25900.000000  25900.000000   25900.000000\n",
       "mean     199.862934     96.478918     376.360924\n",
       "std     1108.563551    494.677787    2013.261050\n",
       "min   -80995.000000 -11062.060000 -168469.600000\n",
       "25%        6.000000      7.410000      11.775000\n",
       "50%      100.000000     31.130000     207.535000\n",
       "75%      240.000000     75.665000     409.085000\n",
       "max    80995.000000  38970.000000  168469.600000"
      ]
     },
     "execution_count": 27,
     "metadata": {},
     "output_type": "execute_result"
    }
   ],
   "source": [
    "df_invoice.describe()"
   ]
  },
  {
   "cell_type": "markdown",
   "id": "b2df4220",
   "metadata": {
    "papermill": {
     "duration": 0.018188,
     "end_time": "2023-04-01T12:48:00.282151",
     "exception": false,
     "start_time": "2023-04-01T12:48:00.263963",
     "status": "completed"
    },
    "tags": []
   },
   "source": [
    "# Analysis of the df_invoice Frame\n",
    "\n",
    "* There are 25900 different invoices\n",
    "* On average the total amount of the bill is $483.49\n",
    "* "
   ]
  },
  {
   "cell_type": "code",
   "execution_count": 28,
   "id": "0b2a295e",
   "metadata": {
    "execution": {
     "iopub.execute_input": "2023-04-01T12:48:00.321430Z",
     "iopub.status.busy": "2023-04-01T12:48:00.321031Z",
     "iopub.status.idle": "2023-04-01T12:48:00.328828Z",
     "shell.execute_reply": "2023-04-01T12:48:00.328001Z"
    },
    "papermill": {
     "duration": 0.030139,
     "end_time": "2023-04-01T12:48:00.330954",
     "exception": false,
     "start_time": "2023-04-01T12:48:00.300815",
     "status": "completed"
    },
    "tags": []
   },
   "outputs": [],
   "source": [
    "df_invoice1 = df_invoice[(df_invoice[\"Quantity\"]<=2500) & (df_invoice[\"Quantity\"]>=0) & (df_invoice[\"Total Amount\"]<=2500) & (df_invoice[\"Total Amount\"]>=0)]"
   ]
  },
  {
   "cell_type": "code",
   "execution_count": 29,
   "id": "25c79742",
   "metadata": {
    "execution": {
     "iopub.execute_input": "2023-04-01T12:48:00.370253Z",
     "iopub.status.busy": "2023-04-01T12:48:00.369506Z",
     "iopub.status.idle": "2023-04-01T12:48:00.375771Z",
     "shell.execute_reply": "2023-04-01T12:48:00.374758Z"
    },
    "papermill": {
     "duration": 0.028175,
     "end_time": "2023-04-01T12:48:00.377837",
     "exception": false,
     "start_time": "2023-04-01T12:48:00.349662",
     "status": "completed"
    },
    "tags": []
   },
   "outputs": [
    {
     "data": {
      "text/plain": [
       "(20186, 3)"
      ]
     },
     "execution_count": 29,
     "metadata": {},
     "output_type": "execute_result"
    }
   ],
   "source": [
    "df_invoice1.shape"
   ]
  },
  {
   "cell_type": "code",
   "execution_count": 30,
   "id": "94882be9",
   "metadata": {
    "execution": {
     "iopub.execute_input": "2023-04-01T12:48:00.416924Z",
     "iopub.status.busy": "2023-04-01T12:48:00.416558Z",
     "iopub.status.idle": "2023-04-01T12:48:00.439383Z",
     "shell.execute_reply": "2023-04-01T12:48:00.438331Z"
    },
    "papermill": {
     "duration": 0.044852,
     "end_time": "2023-04-01T12:48:00.441447",
     "exception": false,
     "start_time": "2023-04-01T12:48:00.396595",
     "status": "completed"
    },
    "tags": []
   },
   "outputs": [
    {
     "data": {
      "text/html": [
       "<div>\n",
       "<style scoped>\n",
       "    .dataframe tbody tr th:only-of-type {\n",
       "        vertical-align: middle;\n",
       "    }\n",
       "\n",
       "    .dataframe tbody tr th {\n",
       "        vertical-align: top;\n",
       "    }\n",
       "\n",
       "    .dataframe thead th {\n",
       "        text-align: right;\n",
       "    }\n",
       "</style>\n",
       "<table border=\"1\" class=\"dataframe\">\n",
       "  <thead>\n",
       "    <tr style=\"text-align: right;\">\n",
       "      <th></th>\n",
       "      <th>Quantity</th>\n",
       "      <th>UnitPrice</th>\n",
       "      <th>Total Amount</th>\n",
       "    </tr>\n",
       "  </thead>\n",
       "  <tbody>\n",
       "    <tr>\n",
       "      <th>count</th>\n",
       "      <td>20186.000000</td>\n",
       "      <td>20186.000000</td>\n",
       "      <td>20186.000000</td>\n",
       "    </tr>\n",
       "    <tr>\n",
       "      <th>mean</th>\n",
       "      <td>208.336570</td>\n",
       "      <td>78.509927</td>\n",
       "      <td>372.024067</td>\n",
       "    </tr>\n",
       "    <tr>\n",
       "      <th>std</th>\n",
       "      <td>233.037296</td>\n",
       "      <td>147.331967</td>\n",
       "      <td>379.610561</td>\n",
       "    </tr>\n",
       "    <tr>\n",
       "      <th>min</th>\n",
       "      <td>1.000000</td>\n",
       "      <td>0.000000</td>\n",
       "      <td>0.000000</td>\n",
       "    </tr>\n",
       "    <tr>\n",
       "      <th>25%</th>\n",
       "      <td>61.000000</td>\n",
       "      <td>15.400000</td>\n",
       "      <td>135.000000</td>\n",
       "    </tr>\n",
       "    <tr>\n",
       "      <th>50%</th>\n",
       "      <td>141.500000</td>\n",
       "      <td>42.160000</td>\n",
       "      <td>289.245000</td>\n",
       "    </tr>\n",
       "    <tr>\n",
       "      <th>75%</th>\n",
       "      <td>272.000000</td>\n",
       "      <td>85.000000</td>\n",
       "      <td>456.885000</td>\n",
       "    </tr>\n",
       "    <tr>\n",
       "      <th>max</th>\n",
       "      <td>2460.000000</td>\n",
       "      <td>2500.000000</td>\n",
       "      <td>2500.000000</td>\n",
       "    </tr>\n",
       "  </tbody>\n",
       "</table>\n",
       "</div>"
      ],
      "text/plain": [
       "           Quantity     UnitPrice  Total Amount\n",
       "count  20186.000000  20186.000000  20186.000000\n",
       "mean     208.336570     78.509927    372.024067\n",
       "std      233.037296    147.331967    379.610561\n",
       "min        1.000000      0.000000      0.000000\n",
       "25%       61.000000     15.400000    135.000000\n",
       "50%      141.500000     42.160000    289.245000\n",
       "75%      272.000000     85.000000    456.885000\n",
       "max     2460.000000   2500.000000   2500.000000"
      ]
     },
     "execution_count": 30,
     "metadata": {},
     "output_type": "execute_result"
    }
   ],
   "source": [
    "df_invoice1.describe()"
   ]
  },
  {
   "cell_type": "code",
   "execution_count": 31,
   "id": "15673a6a",
   "metadata": {
    "execution": {
     "iopub.execute_input": "2023-04-01T12:48:00.481681Z",
     "iopub.status.busy": "2023-04-01T12:48:00.481018Z",
     "iopub.status.idle": "2023-04-01T12:48:00.490227Z",
     "shell.execute_reply": "2023-04-01T12:48:00.489251Z"
    },
    "papermill": {
     "duration": 0.031874,
     "end_time": "2023-04-01T12:48:00.492457",
     "exception": false,
     "start_time": "2023-04-01T12:48:00.460583",
     "status": "completed"
    },
    "tags": []
   },
   "outputs": [
    {
     "data": {
      "text/plain": [
       "(1000, 3)"
      ]
     },
     "execution_count": 31,
     "metadata": {},
     "output_type": "execute_result"
    }
   ],
   "source": [
    "df_invoice2 = df_invoice1.sample(n=1000).sort_values(\"Total Amount\")\n",
    "df_invoice2.shape"
   ]
  },
  {
   "cell_type": "code",
   "execution_count": 32,
   "id": "4506b33f",
   "metadata": {
    "execution": {
     "iopub.execute_input": "2023-04-01T12:48:00.532073Z",
     "iopub.status.busy": "2023-04-01T12:48:00.531739Z",
     "iopub.status.idle": "2023-04-01T12:48:00.954457Z",
     "shell.execute_reply": "2023-04-01T12:48:00.953404Z"
    },
    "papermill": {
     "duration": 0.44552,
     "end_time": "2023-04-01T12:48:00.957275",
     "exception": false,
     "start_time": "2023-04-01T12:48:00.511755",
     "status": "completed"
    },
    "tags": []
   },
   "outputs": [
    {
     "data": {
      "text/plain": [
       "<AxesSubplot:ylabel='InvoiceNo'>"
      ]
     },
     "execution_count": 32,
     "metadata": {},
     "output_type": "execute_result"
    },
    {
     "data": {
      "image/png": "[encoded data removed]",
      "text/plain": [
       "<Figure size 640x480 with 2 Axes>"
      ]
     },
     "metadata": {},
     "output_type": "display_data"
    }
   ],
   "source": [
    "sns.heatmap(data=df_invoice2, cbar=True)"
   ]
  },
  {
   "cell_type": "code",
   "execution_count": 33,
   "id": "32bf6cb4",
   "metadata": {
    "execution": {
     "iopub.execute_input": "2023-04-01T12:48:01.000595Z",
     "iopub.status.busy": "2023-04-01T12:48:01.000174Z",
     "iopub.status.idle": "2023-04-01T12:48:01.023541Z",
     "shell.execute_reply": "2023-04-01T12:48:01.022550Z"
    },
    "papermill": {
     "duration": 0.047667,
     "end_time": "2023-04-01T12:48:01.026036",
     "exception": false,
     "start_time": "2023-04-01T12:48:00.978369",
     "status": "completed"
    },
    "tags": []
   },
   "outputs": [
    {
     "data": {
      "text/html": [
       "<div>\n",
       "<style scoped>\n",
       "    .dataframe tbody tr th:only-of-type {\n",
       "        vertical-align: middle;\n",
       "    }\n",
       "\n",
       "    .dataframe tbody tr th {\n",
       "        vertical-align: top;\n",
       "    }\n",
       "\n",
       "    .dataframe thead th {\n",
       "        text-align: right;\n",
       "    }\n",
       "</style>\n",
       "<table border=\"1\" class=\"dataframe\">\n",
       "  <thead>\n",
       "    <tr style=\"text-align: right;\">\n",
       "      <th></th>\n",
       "      <th>InvoiceNo</th>\n",
       "      <th>StockCode</th>\n",
       "      <th>Description</th>\n",
       "      <th>Quantity</th>\n",
       "      <th>InvoiceDate</th>\n",
       "      <th>UnitPrice</th>\n",
       "      <th>CustomerID</th>\n",
       "      <th>Country</th>\n",
       "      <th>Total Amount</th>\n",
       "    </tr>\n",
       "  </thead>\n",
       "  <tbody>\n",
       "    <tr>\n",
       "      <th>0</th>\n",
       "      <td>536365</td>\n",
       "      <td>85123A</td>\n",
       "      <td>WHITE HANGING HEART T-LIGHT HOLDER</td>\n",
       "      <td>6</td>\n",
       "      <td>12/1/2010 8:26</td>\n",
       "      <td>2.55</td>\n",
       "      <td>17850.0</td>\n",
       "      <td>United Kingdom</td>\n",
       "      <td>15.30</td>\n",
       "    </tr>\n",
       "    <tr>\n",
       "      <th>1</th>\n",
       "      <td>536365</td>\n",
       "      <td>71053</td>\n",
       "      <td>WHITE METAL LANTERN</td>\n",
       "      <td>6</td>\n",
       "      <td>12/1/2010 8:26</td>\n",
       "      <td>3.39</td>\n",
       "      <td>17850.0</td>\n",
       "      <td>United Kingdom</td>\n",
       "      <td>20.34</td>\n",
       "    </tr>\n",
       "    <tr>\n",
       "      <th>2</th>\n",
       "      <td>536365</td>\n",
       "      <td>84406B</td>\n",
       "      <td>CREAM CUPID HEARTS COAT HANGER</td>\n",
       "      <td>8</td>\n",
       "      <td>12/1/2010 8:26</td>\n",
       "      <td>2.75</td>\n",
       "      <td>17850.0</td>\n",
       "      <td>United Kingdom</td>\n",
       "      <td>22.00</td>\n",
       "    </tr>\n",
       "    <tr>\n",
       "      <th>3</th>\n",
       "      <td>536365</td>\n",
       "      <td>84029G</td>\n",
       "      <td>KNITTED UNION FLAG HOT WATER BOTTLE</td>\n",
       "      <td>6</td>\n",
       "      <td>12/1/2010 8:26</td>\n",
       "      <td>3.39</td>\n",
       "      <td>17850.0</td>\n",
       "      <td>United Kingdom</td>\n",
       "      <td>20.34</td>\n",
       "    </tr>\n",
       "    <tr>\n",
       "      <th>4</th>\n",
       "      <td>536365</td>\n",
       "      <td>84029E</td>\n",
       "      <td>RED WOOLLY HOTTIE WHITE HEART.</td>\n",
       "      <td>6</td>\n",
       "      <td>12/1/2010 8:26</td>\n",
       "      <td>3.39</td>\n",
       "      <td>17850.0</td>\n",
       "      <td>United Kingdom</td>\n",
       "      <td>20.34</td>\n",
       "    </tr>\n",
       "    <tr>\n",
       "      <th>5</th>\n",
       "      <td>536365</td>\n",
       "      <td>22752</td>\n",
       "      <td>SET 7 BABUSHKA NESTING BOXES</td>\n",
       "      <td>2</td>\n",
       "      <td>12/1/2010 8:26</td>\n",
       "      <td>7.65</td>\n",
       "      <td>17850.0</td>\n",
       "      <td>United Kingdom</td>\n",
       "      <td>15.30</td>\n",
       "    </tr>\n",
       "    <tr>\n",
       "      <th>6</th>\n",
       "      <td>536365</td>\n",
       "      <td>21730</td>\n",
       "      <td>GLASS STAR FROSTED T-LIGHT HOLDER</td>\n",
       "      <td>6</td>\n",
       "      <td>12/1/2010 8:26</td>\n",
       "      <td>4.25</td>\n",
       "      <td>17850.0</td>\n",
       "      <td>United Kingdom</td>\n",
       "      <td>25.50</td>\n",
       "    </tr>\n",
       "    <tr>\n",
       "      <th>7</th>\n",
       "      <td>536366</td>\n",
       "      <td>22633</td>\n",
       "      <td>HAND WARMER UNION JACK</td>\n",
       "      <td>6</td>\n",
       "      <td>12/1/2010 8:28</td>\n",
       "      <td>1.85</td>\n",
       "      <td>17850.0</td>\n",
       "      <td>United Kingdom</td>\n",
       "      <td>11.10</td>\n",
       "    </tr>\n",
       "    <tr>\n",
       "      <th>8</th>\n",
       "      <td>536366</td>\n",
       "      <td>22632</td>\n",
       "      <td>HAND WARMER RED POLKA DOT</td>\n",
       "      <td>6</td>\n",
       "      <td>12/1/2010 8:28</td>\n",
       "      <td>1.85</td>\n",
       "      <td>17850.0</td>\n",
       "      <td>United Kingdom</td>\n",
       "      <td>11.10</td>\n",
       "    </tr>\n",
       "    <tr>\n",
       "      <th>9</th>\n",
       "      <td>536367</td>\n",
       "      <td>84879</td>\n",
       "      <td>ASSORTED COLOUR BIRD ORNAMENT</td>\n",
       "      <td>32</td>\n",
       "      <td>12/1/2010 8:34</td>\n",
       "      <td>1.69</td>\n",
       "      <td>13047.0</td>\n",
       "      <td>United Kingdom</td>\n",
       "      <td>54.08</td>\n",
       "    </tr>\n",
       "    <tr>\n",
       "      <th>10</th>\n",
       "      <td>536367</td>\n",
       "      <td>22745</td>\n",
       "      <td>POPPY'S PLAYHOUSE BEDROOM</td>\n",
       "      <td>6</td>\n",
       "      <td>12/1/2010 8:34</td>\n",
       "      <td>2.10</td>\n",
       "      <td>13047.0</td>\n",
       "      <td>United Kingdom</td>\n",
       "      <td>12.60</td>\n",
       "    </tr>\n",
       "    <tr>\n",
       "      <th>11</th>\n",
       "      <td>536367</td>\n",
       "      <td>22748</td>\n",
       "      <td>POPPY'S PLAYHOUSE KITCHEN</td>\n",
       "      <td>6</td>\n",
       "      <td>12/1/2010 8:34</td>\n",
       "      <td>2.10</td>\n",
       "      <td>13047.0</td>\n",
       "      <td>United Kingdom</td>\n",
       "      <td>12.60</td>\n",
       "    </tr>\n",
       "    <tr>\n",
       "      <th>12</th>\n",
       "      <td>536367</td>\n",
       "      <td>22749</td>\n",
       "      <td>FELTCRAFT PRINCESS CHARLOTTE DOLL</td>\n",
       "      <td>8</td>\n",
       "      <td>12/1/2010 8:34</td>\n",
       "      <td>3.75</td>\n",
       "      <td>13047.0</td>\n",
       "      <td>United Kingdom</td>\n",
       "      <td>30.00</td>\n",
       "    </tr>\n",
       "    <tr>\n",
       "      <th>13</th>\n",
       "      <td>536367</td>\n",
       "      <td>22310</td>\n",
       "      <td>IVORY KNITTED MUG COSY</td>\n",
       "      <td>6</td>\n",
       "      <td>12/1/2010 8:34</td>\n",
       "      <td>1.65</td>\n",
       "      <td>13047.0</td>\n",
       "      <td>United Kingdom</td>\n",
       "      <td>9.90</td>\n",
       "    </tr>\n",
       "    <tr>\n",
       "      <th>14</th>\n",
       "      <td>536367</td>\n",
       "      <td>84969</td>\n",
       "      <td>BOX OF 6 ASSORTED COLOUR TEASPOONS</td>\n",
       "      <td>6</td>\n",
       "      <td>12/1/2010 8:34</td>\n",
       "      <td>4.25</td>\n",
       "      <td>13047.0</td>\n",
       "      <td>United Kingdom</td>\n",
       "      <td>25.50</td>\n",
       "    </tr>\n",
       "    <tr>\n",
       "      <th>15</th>\n",
       "      <td>536367</td>\n",
       "      <td>22623</td>\n",
       "      <td>BOX OF VINTAGE JIGSAW BLOCKS</td>\n",
       "      <td>3</td>\n",
       "      <td>12/1/2010 8:34</td>\n",
       "      <td>4.95</td>\n",
       "      <td>13047.0</td>\n",
       "      <td>United Kingdom</td>\n",
       "      <td>14.85</td>\n",
       "    </tr>\n",
       "    <tr>\n",
       "      <th>16</th>\n",
       "      <td>536367</td>\n",
       "      <td>22622</td>\n",
       "      <td>BOX OF VINTAGE ALPHABET BLOCKS</td>\n",
       "      <td>2</td>\n",
       "      <td>12/1/2010 8:34</td>\n",
       "      <td>9.95</td>\n",
       "      <td>13047.0</td>\n",
       "      <td>United Kingdom</td>\n",
       "      <td>19.90</td>\n",
       "    </tr>\n",
       "    <tr>\n",
       "      <th>17</th>\n",
       "      <td>536367</td>\n",
       "      <td>21754</td>\n",
       "      <td>HOME BUILDING BLOCK WORD</td>\n",
       "      <td>3</td>\n",
       "      <td>12/1/2010 8:34</td>\n",
       "      <td>5.95</td>\n",
       "      <td>13047.0</td>\n",
       "      <td>United Kingdom</td>\n",
       "      <td>17.85</td>\n",
       "    </tr>\n",
       "    <tr>\n",
       "      <th>18</th>\n",
       "      <td>536367</td>\n",
       "      <td>21755</td>\n",
       "      <td>LOVE BUILDING BLOCK WORD</td>\n",
       "      <td>3</td>\n",
       "      <td>12/1/2010 8:34</td>\n",
       "      <td>5.95</td>\n",
       "      <td>13047.0</td>\n",
       "      <td>United Kingdom</td>\n",
       "      <td>17.85</td>\n",
       "    </tr>\n",
       "    <tr>\n",
       "      <th>19</th>\n",
       "      <td>536367</td>\n",
       "      <td>21777</td>\n",
       "      <td>RECIPE BOX WITH METAL HEART</td>\n",
       "      <td>4</td>\n",
       "      <td>12/1/2010 8:34</td>\n",
       "      <td>7.95</td>\n",
       "      <td>13047.0</td>\n",
       "      <td>United Kingdom</td>\n",
       "      <td>31.80</td>\n",
       "    </tr>\n",
       "    <tr>\n",
       "      <th>20</th>\n",
       "      <td>536367</td>\n",
       "      <td>48187</td>\n",
       "      <td>DOORMAT NEW ENGLAND</td>\n",
       "      <td>4</td>\n",
       "      <td>12/1/2010 8:34</td>\n",
       "      <td>7.95</td>\n",
       "      <td>13047.0</td>\n",
       "      <td>United Kingdom</td>\n",
       "      <td>31.80</td>\n",
       "    </tr>\n",
       "    <tr>\n",
       "      <th>21</th>\n",
       "      <td>536368</td>\n",
       "      <td>22960</td>\n",
       "      <td>JAM MAKING SET WITH JARS</td>\n",
       "      <td>6</td>\n",
       "      <td>12/1/2010 8:34</td>\n",
       "      <td>4.25</td>\n",
       "      <td>13047.0</td>\n",
       "      <td>United Kingdom</td>\n",
       "      <td>25.50</td>\n",
       "    </tr>\n",
       "    <tr>\n",
       "      <th>22</th>\n",
       "      <td>536368</td>\n",
       "      <td>22913</td>\n",
       "      <td>RED COAT RACK PARIS FASHION</td>\n",
       "      <td>3</td>\n",
       "      <td>12/1/2010 8:34</td>\n",
       "      <td>4.95</td>\n",
       "      <td>13047.0</td>\n",
       "      <td>United Kingdom</td>\n",
       "      <td>14.85</td>\n",
       "    </tr>\n",
       "    <tr>\n",
       "      <th>23</th>\n",
       "      <td>536368</td>\n",
       "      <td>22912</td>\n",
       "      <td>YELLOW COAT RACK PARIS FASHION</td>\n",
       "      <td>3</td>\n",
       "      <td>12/1/2010 8:34</td>\n",
       "      <td>4.95</td>\n",
       "      <td>13047.0</td>\n",
       "      <td>United Kingdom</td>\n",
       "      <td>14.85</td>\n",
       "    </tr>\n",
       "    <tr>\n",
       "      <th>24</th>\n",
       "      <td>536368</td>\n",
       "      <td>22914</td>\n",
       "      <td>BLUE COAT RACK PARIS FASHION</td>\n",
       "      <td>3</td>\n",
       "      <td>12/1/2010 8:34</td>\n",
       "      <td>4.95</td>\n",
       "      <td>13047.0</td>\n",
       "      <td>United Kingdom</td>\n",
       "      <td>14.85</td>\n",
       "    </tr>\n",
       "  </tbody>\n",
       "</table>\n",
       "</div>"
      ],
      "text/plain": [
       "   InvoiceNo StockCode                          Description  Quantity  \\\n",
       "0     536365    85123A   WHITE HANGING HEART T-LIGHT HOLDER         6   \n",
       "1     536365     71053                  WHITE METAL LANTERN         6   \n",
       "2     536365    84406B       CREAM CUPID HEARTS COAT HANGER         8   \n",
       "3     536365    84029G  KNITTED UNION FLAG HOT WATER BOTTLE         6   \n",
       "4     536365    84029E       RED WOOLLY HOTTIE WHITE HEART.         6   \n",
       "5     536365     22752         SET 7 BABUSHKA NESTING BOXES         2   \n",
       "6     536365     21730    GLASS STAR FROSTED T-LIGHT HOLDER         6   \n",
       "7     536366     22633               HAND WARMER UNION JACK         6   \n",
       "8     536366     22632            HAND WARMER RED POLKA DOT         6   \n",
       "9     536367     84879        ASSORTED COLOUR BIRD ORNAMENT        32   \n",
       "10    536367     22745           POPPY'S PLAYHOUSE BEDROOM          6   \n",
       "11    536367     22748            POPPY'S PLAYHOUSE KITCHEN         6   \n",
       "12    536367     22749    FELTCRAFT PRINCESS CHARLOTTE DOLL         8   \n",
       "13    536367     22310              IVORY KNITTED MUG COSY          6   \n",
       "14    536367     84969   BOX OF 6 ASSORTED COLOUR TEASPOONS         6   \n",
       "15    536367     22623        BOX OF VINTAGE JIGSAW BLOCKS          3   \n",
       "16    536367     22622       BOX OF VINTAGE ALPHABET BLOCKS         2   \n",
       "17    536367     21754             HOME BUILDING BLOCK WORD         3   \n",
       "18    536367     21755             LOVE BUILDING BLOCK WORD         3   \n",
       "19    536367     21777          RECIPE BOX WITH METAL HEART         4   \n",
       "20    536367     48187                  DOORMAT NEW ENGLAND         4   \n",
       "21    536368     22960             JAM MAKING SET WITH JARS         6   \n",
       "22    536368     22913          RED COAT RACK PARIS FASHION         3   \n",
       "23    536368     22912       YELLOW COAT RACK PARIS FASHION         3   \n",
       "24    536368     22914         BLUE COAT RACK PARIS FASHION         3   \n",
       "\n",
       "       InvoiceDate  UnitPrice  CustomerID         Country  Total Amount  \n",
       "0   12/1/2010 8:26       2.55     17850.0  United Kingdom         15.30  \n",
       "1   12/1/2010 8:26       3.39     17850.0  United Kingdom         20.34  \n",
       "2   12/1/2010 8:26       2.75     17850.0  United Kingdom         22.00  \n",
       "3   12/1/2010 8:26       3.39     17850.0  United Kingdom         20.34  \n",
       "4   12/1/2010 8:26       3.39     17850.0  United Kingdom         20.34  \n",
       "5   12/1/2010 8:26       7.65     17850.0  United Kingdom         15.30  \n",
       "6   12/1/2010 8:26       4.25     17850.0  United Kingdom         25.50  \n",
       "7   12/1/2010 8:28       1.85     17850.0  United Kingdom         11.10  \n",
       "8   12/1/2010 8:28       1.85     17850.0  United Kingdom         11.10  \n",
       "9   12/1/2010 8:34       1.69     13047.0  United Kingdom         54.08  \n",
       "10  12/1/2010 8:34       2.10     13047.0  United Kingdom         12.60  \n",
       "11  12/1/2010 8:34       2.10     13047.0  United Kingdom         12.60  \n",
       "12  12/1/2010 8:34       3.75     13047.0  United Kingdom         30.00  \n",
       "13  12/1/2010 8:34       1.65     13047.0  United Kingdom          9.90  \n",
       "14  12/1/2010 8:34       4.25     13047.0  United Kingdom         25.50  \n",
       "15  12/1/2010 8:34       4.95     13047.0  United Kingdom         14.85  \n",
       "16  12/1/2010 8:34       9.95     13047.0  United Kingdom         19.90  \n",
       "17  12/1/2010 8:34       5.95     13047.0  United Kingdom         17.85  \n",
       "18  12/1/2010 8:34       5.95     13047.0  United Kingdom         17.85  \n",
       "19  12/1/2010 8:34       7.95     13047.0  United Kingdom         31.80  \n",
       "20  12/1/2010 8:34       7.95     13047.0  United Kingdom         31.80  \n",
       "21  12/1/2010 8:34       4.25     13047.0  United Kingdom         25.50  \n",
       "22  12/1/2010 8:34       4.95     13047.0  United Kingdom         14.85  \n",
       "23  12/1/2010 8:34       4.95     13047.0  United Kingdom         14.85  \n",
       "24  12/1/2010 8:34       4.95     13047.0  United Kingdom         14.85  "
      ]
     },
     "execution_count": 33,
     "metadata": {},
     "output_type": "execute_result"
    }
   ],
   "source": [
    "df.head(25)"
   ]
  },
  {
   "cell_type": "code",
   "execution_count": 34,
   "id": "e445093e",
   "metadata": {
    "execution": {
     "iopub.execute_input": "2023-04-01T12:48:01.071044Z",
     "iopub.status.busy": "2023-04-01T12:48:01.070679Z",
     "iopub.status.idle": "2023-04-01T12:48:03.151228Z",
     "shell.execute_reply": "2023-04-01T12:48:03.150002Z"
    },
    "papermill": {
     "duration": 2.105556,
     "end_time": "2023-04-01T12:48:03.153629",
     "exception": false,
     "start_time": "2023-04-01T12:48:01.048073",
     "status": "completed"
    },
    "tags": []
   },
   "outputs": [
    {
     "data": {
      "text/plain": [
       "<AxesSubplot:xlabel='Quantity', ylabel='UnitPrice'>"
      ]
     },
     "execution_count": 34,
     "metadata": {},
     "output_type": "execute_result"
    },
    {
     "data": {
      "image/png": "[encoded data removed]",
      "text/plain": [
       "<Figure size 640x480 with 1 Axes>"
      ]
     },
     "metadata": {},
     "output_type": "display_data"
    }
   ],
   "source": [
    "df.query(\"UnitPrice > 0 & UnitPrice < 10000 & Quantity > 0 & Quantity < 10000\").plot(x=\"Quantity\",y=\"UnitPrice\", kind=\"scatter\",loglog=True,alpha=0.1,s=1)"
   ]
  },
  {
   "cell_type": "code",
   "execution_count": 35,
   "id": "9d376e30",
   "metadata": {
    "execution": {
     "iopub.execute_input": "2023-04-01T12:48:03.199924Z",
     "iopub.status.busy": "2023-04-01T12:48:03.199004Z",
     "iopub.status.idle": "2023-04-01T12:48:03.243378Z",
     "shell.execute_reply": "2023-04-01T12:48:03.242387Z"
    },
    "papermill": {
     "duration": 0.069896,
     "end_time": "2023-04-01T12:48:03.245419",
     "exception": false,
     "start_time": "2023-04-01T12:48:03.175523",
     "status": "completed"
    },
    "tags": []
   },
   "outputs": [
    {
     "data": {
      "text/html": [
       "<div>\n",
       "<style scoped>\n",
       "    .dataframe tbody tr th:only-of-type {\n",
       "        vertical-align: middle;\n",
       "    }\n",
       "\n",
       "    .dataframe tbody tr th {\n",
       "        vertical-align: top;\n",
       "    }\n",
       "\n",
       "    .dataframe thead th {\n",
       "        text-align: right;\n",
       "    }\n",
       "</style>\n",
       "<table border=\"1\" class=\"dataframe\">\n",
       "  <thead>\n",
       "    <tr style=\"text-align: right;\">\n",
       "      <th></th>\n",
       "      <th>InvoiceNo</th>\n",
       "    </tr>\n",
       "  </thead>\n",
       "  <tbody>\n",
       "    <tr>\n",
       "      <th>573585</th>\n",
       "      <td>1114</td>\n",
       "    </tr>\n",
       "    <tr>\n",
       "      <th>581219</th>\n",
       "      <td>749</td>\n",
       "    </tr>\n",
       "    <tr>\n",
       "      <th>581492</th>\n",
       "      <td>731</td>\n",
       "    </tr>\n",
       "    <tr>\n",
       "      <th>580729</th>\n",
       "      <td>721</td>\n",
       "    </tr>\n",
       "    <tr>\n",
       "      <th>558475</th>\n",
       "      <td>705</td>\n",
       "    </tr>\n",
       "  </tbody>\n",
       "</table>\n",
       "</div>"
      ],
      "text/plain": [
       "        InvoiceNo\n",
       "573585       1114\n",
       "581219        749\n",
       "581492        731\n",
       "580729        721\n",
       "558475        705"
      ]
     },
     "execution_count": 35,
     "metadata": {},
     "output_type": "execute_result"
    }
   ],
   "source": [
    "invoice = pd.DataFrame(df[\"InvoiceNo\"].value_counts())\n",
    "invoice.head()"
   ]
  },
  {
   "cell_type": "code",
   "execution_count": 36,
   "id": "50af6783",
   "metadata": {
    "execution": {
     "iopub.execute_input": "2023-04-01T12:48:03.290761Z",
     "iopub.status.busy": "2023-04-01T12:48:03.290398Z",
     "iopub.status.idle": "2023-04-01T12:48:03.536106Z",
     "shell.execute_reply": "2023-04-01T12:48:03.535368Z"
    },
    "papermill": {
     "duration": 0.270505,
     "end_time": "2023-04-01T12:48:03.538067",
     "exception": false,
     "start_time": "2023-04-01T12:48:03.267562",
     "status": "completed"
    },
    "tags": []
   },
   "outputs": [
    {
     "data": {
      "text/plain": [
       "<AxesSubplot:>"
      ]
     },
     "execution_count": 36,
     "metadata": {},
     "output_type": "execute_result"
    },
    {
     "data": {
      "image/png": "[encoded data removed]",
      "text/plain": [
       "<Figure size 640x480 with 1 Axes>"
      ]
     },
     "metadata": {},
     "output_type": "display_data"
    }
   ],
   "source": [
    "invoice.plot()"
   ]
  },
  {
   "cell_type": "code",
   "execution_count": 37,
   "id": "9d016a22",
   "metadata": {
    "execution": {
     "iopub.execute_input": "2023-04-01T12:48:03.586555Z",
     "iopub.status.busy": "2023-04-01T12:48:03.585580Z",
     "iopub.status.idle": "2023-04-01T12:48:03.600410Z",
     "shell.execute_reply": "2023-04-01T12:48:03.599562Z"
    },
    "papermill": {
     "duration": 0.041428,
     "end_time": "2023-04-01T12:48:03.602512",
     "exception": false,
     "start_time": "2023-04-01T12:48:03.561084",
     "status": "completed"
    },
    "tags": []
   },
   "outputs": [
    {
     "data": {
      "text/html": [
       "<div>\n",
       "<style scoped>\n",
       "    .dataframe tbody tr th:only-of-type {\n",
       "        vertical-align: middle;\n",
       "    }\n",
       "\n",
       "    .dataframe tbody tr th {\n",
       "        vertical-align: top;\n",
       "    }\n",
       "\n",
       "    .dataframe thead th {\n",
       "        text-align: right;\n",
       "    }\n",
       "</style>\n",
       "<table border=\"1\" class=\"dataframe\">\n",
       "  <thead>\n",
       "    <tr style=\"text-align: right;\">\n",
       "      <th></th>\n",
       "      <th>InvoiceNo</th>\n",
       "    </tr>\n",
       "  </thead>\n",
       "  <tbody>\n",
       "    <tr>\n",
       "      <th>count</th>\n",
       "      <td>25900.000000</td>\n",
       "    </tr>\n",
       "    <tr>\n",
       "      <th>mean</th>\n",
       "      <td>20.923127</td>\n",
       "    </tr>\n",
       "    <tr>\n",
       "      <th>std</th>\n",
       "      <td>43.031334</td>\n",
       "    </tr>\n",
       "    <tr>\n",
       "      <th>min</th>\n",
       "      <td>1.000000</td>\n",
       "    </tr>\n",
       "    <tr>\n",
       "      <th>25%</th>\n",
       "      <td>2.000000</td>\n",
       "    </tr>\n",
       "    <tr>\n",
       "      <th>50%</th>\n",
       "      <td>10.000000</td>\n",
       "    </tr>\n",
       "    <tr>\n",
       "      <th>75%</th>\n",
       "      <td>23.000000</td>\n",
       "    </tr>\n",
       "    <tr>\n",
       "      <th>max</th>\n",
       "      <td>1114.000000</td>\n",
       "    </tr>\n",
       "  </tbody>\n",
       "</table>\n",
       "</div>"
      ],
      "text/plain": [
       "          InvoiceNo\n",
       "count  25900.000000\n",
       "mean      20.923127\n",
       "std       43.031334\n",
       "min        1.000000\n",
       "25%        2.000000\n",
       "50%       10.000000\n",
       "75%       23.000000\n",
       "max     1114.000000"
      ]
     },
     "execution_count": 37,
     "metadata": {},
     "output_type": "execute_result"
    }
   ],
   "source": [
    "invoice.describe()"
   ]
  },
  {
   "cell_type": "code",
   "execution_count": 38,
   "id": "1acbde61",
   "metadata": {
    "execution": {
     "iopub.execute_input": "2023-04-01T12:48:03.649715Z",
     "iopub.status.busy": "2023-04-01T12:48:03.649301Z",
     "iopub.status.idle": "2023-04-01T12:48:03.692100Z",
     "shell.execute_reply": "2023-04-01T12:48:03.690908Z"
    },
    "papermill": {
     "duration": 0.069348,
     "end_time": "2023-04-01T12:48:03.694542",
     "exception": false,
     "start_time": "2023-04-01T12:48:03.625194",
     "status": "completed"
    },
    "tags": []
   },
   "outputs": [],
   "source": [
    "df.query(\" InvoiceNo == 573585 \");"
   ]
  },
  {
   "cell_type": "code",
   "execution_count": 39,
   "id": "4174b7b0",
   "metadata": {
    "execution": {
     "iopub.execute_input": "2023-04-01T12:48:03.744669Z",
     "iopub.status.busy": "2023-04-01T12:48:03.744263Z",
     "iopub.status.idle": "2023-04-01T12:48:04.100447Z",
     "shell.execute_reply": "2023-04-01T12:48:04.099378Z"
    },
    "papermill": {
     "duration": 0.385563,
     "end_time": "2023-04-01T12:48:04.103019",
     "exception": false,
     "start_time": "2023-04-01T12:48:03.717456",
     "status": "completed"
    },
    "tags": []
   },
   "outputs": [
    {
     "data": {
      "text/plain": [
       "<AxesSubplot:>"
      ]
     },
     "execution_count": 39,
     "metadata": {},
     "output_type": "execute_result"
    },
    {
     "data": {
      "image/png": "[encoded data removed]",
      "text/plain": [
       "<Figure size 640x480 with 2 Axes>"
      ]
     },
     "metadata": {},
     "output_type": "display_data"
    }
   ],
   "source": [
    "corr = df.corr()\n",
    "sns.heatmap(data=corr,annot=True)"
   ]
  },
  {
   "cell_type": "code",
   "execution_count": 40,
   "id": "73dbe96d",
   "metadata": {
    "execution": {
     "iopub.execute_input": "2023-04-01T12:48:04.152902Z",
     "iopub.status.busy": "2023-04-01T12:48:04.152206Z",
     "iopub.status.idle": "2023-04-01T12:48:05.771115Z",
     "shell.execute_reply": "2023-04-01T12:48:05.769998Z"
    },
    "papermill": {
     "duration": 1.646397,
     "end_time": "2023-04-01T12:48:05.773391",
     "exception": false,
     "start_time": "2023-04-01T12:48:04.126994",
     "status": "completed"
    },
    "tags": []
   },
   "outputs": [
    {
     "data": {
      "text/plain": [
       "<AxesSubplot:xlabel='InvoiceNo', ylabel='Count'>"
      ]
     },
     "execution_count": 40,
     "metadata": {},
     "output_type": "execute_result"
    },
    {
     "data": {
      "image/png": "[encoded data removed]",
      "text/plain": [
       "<Figure size 640x480 with 1 Axes>"
      ]
     },
     "metadata": {},
     "output_type": "display_data"
    }
   ],
   "source": [
    "sns.histplot(data=invoice.InvoiceNo)"
   ]
  },
  {
   "cell_type": "markdown",
   "id": "95033c19",
   "metadata": {
    "papermill": {
     "duration": 0.02348,
     "end_time": "2023-04-01T12:48:05.820872",
     "exception": false,
     "start_time": "2023-04-01T12:48:05.797392",
     "status": "completed"
    },
    "tags": []
   },
   "source": [
    "## Making distribution of Quantity against time"
   ]
  },
  {
   "cell_type": "code",
   "execution_count": 41,
   "id": "7acbabbb",
   "metadata": {
    "execution": {
     "iopub.execute_input": "2023-04-01T12:48:05.870815Z",
     "iopub.status.busy": "2023-04-01T12:48:05.870452Z",
     "iopub.status.idle": "2023-04-01T12:48:06.047459Z",
     "shell.execute_reply": "2023-04-01T12:48:06.046296Z"
    },
    "papermill": {
     "duration": 0.205349,
     "end_time": "2023-04-01T12:48:06.050134",
     "exception": false,
     "start_time": "2023-04-01T12:48:05.844785",
     "status": "completed"
    },
    "tags": []
   },
   "outputs": [],
   "source": [
    "df[\"InvoiceDate\"] = pd.to_datetime(df[\"InvoiceDate\"], format = \"%m/%d/%Y %H:%M\")"
   ]
  },
  {
   "cell_type": "code",
   "execution_count": 42,
   "id": "b099d367",
   "metadata": {
    "execution": {
     "iopub.execute_input": "2023-04-01T12:48:06.100773Z",
     "iopub.status.busy": "2023-04-01T12:48:06.100359Z",
     "iopub.status.idle": "2023-04-01T12:48:06.167573Z",
     "shell.execute_reply": "2023-04-01T12:48:06.166412Z"
    },
    "papermill": {
     "duration": 0.095157,
     "end_time": "2023-04-01T12:48:06.169887",
     "exception": false,
     "start_time": "2023-04-01T12:48:06.074730",
     "status": "completed"
    },
    "tags": []
   },
   "outputs": [
    {
     "data": {
      "text/html": [
       "<div>\n",
       "<style scoped>\n",
       "    .dataframe tbody tr th:only-of-type {\n",
       "        vertical-align: middle;\n",
       "    }\n",
       "\n",
       "    .dataframe tbody tr th {\n",
       "        vertical-align: top;\n",
       "    }\n",
       "\n",
       "    .dataframe thead th {\n",
       "        text-align: right;\n",
       "    }\n",
       "</style>\n",
       "<table border=\"1\" class=\"dataframe\">\n",
       "  <thead>\n",
       "    <tr style=\"text-align: right;\">\n",
       "      <th></th>\n",
       "      <th>InvoiceNo</th>\n",
       "      <th>StockCode</th>\n",
       "      <th>Description</th>\n",
       "      <th>Quantity</th>\n",
       "      <th>InvoiceDate</th>\n",
       "      <th>UnitPrice</th>\n",
       "      <th>CustomerID</th>\n",
       "      <th>Country</th>\n",
       "      <th>Total Amount</th>\n",
       "      <th>Month</th>\n",
       "    </tr>\n",
       "  </thead>\n",
       "  <tbody>\n",
       "    <tr>\n",
       "      <th>0</th>\n",
       "      <td>536365</td>\n",
       "      <td>85123A</td>\n",
       "      <td>WHITE HANGING HEART T-LIGHT HOLDER</td>\n",
       "      <td>6</td>\n",
       "      <td>2010-12-01 08:26:00</td>\n",
       "      <td>2.55</td>\n",
       "      <td>17850.0</td>\n",
       "      <td>United Kingdom</td>\n",
       "      <td>15.30</td>\n",
       "      <td>12</td>\n",
       "    </tr>\n",
       "    <tr>\n",
       "      <th>1</th>\n",
       "      <td>536365</td>\n",
       "      <td>71053</td>\n",
       "      <td>WHITE METAL LANTERN</td>\n",
       "      <td>6</td>\n",
       "      <td>2010-12-01 08:26:00</td>\n",
       "      <td>3.39</td>\n",
       "      <td>17850.0</td>\n",
       "      <td>United Kingdom</td>\n",
       "      <td>20.34</td>\n",
       "      <td>12</td>\n",
       "    </tr>\n",
       "    <tr>\n",
       "      <th>2</th>\n",
       "      <td>536365</td>\n",
       "      <td>84406B</td>\n",
       "      <td>CREAM CUPID HEARTS COAT HANGER</td>\n",
       "      <td>8</td>\n",
       "      <td>2010-12-01 08:26:00</td>\n",
       "      <td>2.75</td>\n",
       "      <td>17850.0</td>\n",
       "      <td>United Kingdom</td>\n",
       "      <td>22.00</td>\n",
       "      <td>12</td>\n",
       "    </tr>\n",
       "    <tr>\n",
       "      <th>3</th>\n",
       "      <td>536365</td>\n",
       "      <td>84029G</td>\n",
       "      <td>KNITTED UNION FLAG HOT WATER BOTTLE</td>\n",
       "      <td>6</td>\n",
       "      <td>2010-12-01 08:26:00</td>\n",
       "      <td>3.39</td>\n",
       "      <td>17850.0</td>\n",
       "      <td>United Kingdom</td>\n",
       "      <td>20.34</td>\n",
       "      <td>12</td>\n",
       "    </tr>\n",
       "    <tr>\n",
       "      <th>4</th>\n",
       "      <td>536365</td>\n",
       "      <td>84029E</td>\n",
       "      <td>RED WOOLLY HOTTIE WHITE HEART.</td>\n",
       "      <td>6</td>\n",
       "      <td>2010-12-01 08:26:00</td>\n",
       "      <td>3.39</td>\n",
       "      <td>17850.0</td>\n",
       "      <td>United Kingdom</td>\n",
       "      <td>20.34</td>\n",
       "      <td>12</td>\n",
       "    </tr>\n",
       "  </tbody>\n",
       "</table>\n",
       "</div>"
      ],
      "text/plain": [
       "  InvoiceNo StockCode                          Description  Quantity  \\\n",
       "0    536365    85123A   WHITE HANGING HEART T-LIGHT HOLDER         6   \n",
       "1    536365     71053                  WHITE METAL LANTERN         6   \n",
       "2    536365    84406B       CREAM CUPID HEARTS COAT HANGER         8   \n",
       "3    536365    84029G  KNITTED UNION FLAG HOT WATER BOTTLE         6   \n",
       "4    536365    84029E       RED WOOLLY HOTTIE WHITE HEART.         6   \n",
       "\n",
       "          InvoiceDate  UnitPrice  CustomerID         Country  Total Amount  \\\n",
       "0 2010-12-01 08:26:00       2.55     17850.0  United Kingdom         15.30   \n",
       "1 2010-12-01 08:26:00       3.39     17850.0  United Kingdom         20.34   \n",
       "2 2010-12-01 08:26:00       2.75     17850.0  United Kingdom         22.00   \n",
       "3 2010-12-01 08:26:00       3.39     17850.0  United Kingdom         20.34   \n",
       "4 2010-12-01 08:26:00       3.39     17850.0  United Kingdom         20.34   \n",
       "\n",
       "   Month  \n",
       "0     12  \n",
       "1     12  \n",
       "2     12  \n",
       "3     12  \n",
       "4     12  "
      ]
     },
     "execution_count": 42,
     "metadata": {},
     "output_type": "execute_result"
    }
   ],
   "source": [
    "df[\"Month\"] = df[\"InvoiceDate\"].dt.month\n",
    "df.head()"
   ]
  },
  {
   "cell_type": "code",
   "execution_count": 43,
   "id": "21e78cfd",
   "metadata": {
    "execution": {
     "iopub.execute_input": "2023-04-01T12:48:06.221095Z",
     "iopub.status.busy": "2023-04-01T12:48:06.220136Z",
     "iopub.status.idle": "2023-04-01T12:48:06.242955Z",
     "shell.execute_reply": "2023-04-01T12:48:06.241958Z"
    },
    "papermill": {
     "duration": 0.050563,
     "end_time": "2023-04-01T12:48:06.245013",
     "exception": false,
     "start_time": "2023-04-01T12:48:06.194450",
     "status": "completed"
    },
    "tags": []
   },
   "outputs": [
    {
     "data": {
      "text/html": [
       "<div>\n",
       "<style scoped>\n",
       "    .dataframe tbody tr th:only-of-type {\n",
       "        vertical-align: middle;\n",
       "    }\n",
       "\n",
       "    .dataframe tbody tr th {\n",
       "        vertical-align: top;\n",
       "    }\n",
       "\n",
       "    .dataframe thead th {\n",
       "        text-align: right;\n",
       "    }\n",
       "</style>\n",
       "<table border=\"1\" class=\"dataframe\">\n",
       "  <thead>\n",
       "    <tr style=\"text-align: right;\">\n",
       "      <th></th>\n",
       "      <th>Month</th>\n",
       "      <th>Quantity</th>\n",
       "    </tr>\n",
       "  </thead>\n",
       "  <tbody>\n",
       "    <tr>\n",
       "      <th>0</th>\n",
       "      <td>1</td>\n",
       "      <td>308966</td>\n",
       "    </tr>\n",
       "    <tr>\n",
       "      <th>1</th>\n",
       "      <td>2</td>\n",
       "      <td>277989</td>\n",
       "    </tr>\n",
       "    <tr>\n",
       "      <th>2</th>\n",
       "      <td>3</td>\n",
       "      <td>351872</td>\n",
       "    </tr>\n",
       "    <tr>\n",
       "      <th>3</th>\n",
       "      <td>4</td>\n",
       "      <td>289098</td>\n",
       "    </tr>\n",
       "    <tr>\n",
       "      <th>4</th>\n",
       "      <td>5</td>\n",
       "      <td>380391</td>\n",
       "    </tr>\n",
       "    <tr>\n",
       "      <th>5</th>\n",
       "      <td>6</td>\n",
       "      <td>341623</td>\n",
       "    </tr>\n",
       "    <tr>\n",
       "      <th>6</th>\n",
       "      <td>7</td>\n",
       "      <td>391116</td>\n",
       "    </tr>\n",
       "    <tr>\n",
       "      <th>7</th>\n",
       "      <td>8</td>\n",
       "      <td>406199</td>\n",
       "    </tr>\n",
       "    <tr>\n",
       "      <th>8</th>\n",
       "      <td>9</td>\n",
       "      <td>549817</td>\n",
       "    </tr>\n",
       "    <tr>\n",
       "      <th>9</th>\n",
       "      <td>10</td>\n",
       "      <td>570532</td>\n",
       "    </tr>\n",
       "    <tr>\n",
       "      <th>10</th>\n",
       "      <td>11</td>\n",
       "      <td>740286</td>\n",
       "    </tr>\n",
       "    <tr>\n",
       "      <th>11</th>\n",
       "      <td>12</td>\n",
       "      <td>568561</td>\n",
       "    </tr>\n",
       "  </tbody>\n",
       "</table>\n",
       "</div>"
      ],
      "text/plain": [
       "    Month  Quantity\n",
       "0       1    308966\n",
       "1       2    277989\n",
       "2       3    351872\n",
       "3       4    289098\n",
       "4       5    380391\n",
       "5       6    341623\n",
       "6       7    391116\n",
       "7       8    406199\n",
       "8       9    549817\n",
       "9      10    570532\n",
       "10     11    740286\n",
       "11     12    568561"
      ]
     },
     "execution_count": 43,
     "metadata": {},
     "output_type": "execute_result"
    }
   ],
   "source": [
    "month = df.groupby(\"Month\")[\"Quantity\"].sum()\n",
    "month = pd.DataFrame(month)\n",
    "month.reset_index()"
   ]
  },
  {
   "cell_type": "code",
   "execution_count": 44,
   "id": "914da6de",
   "metadata": {
    "execution": {
     "iopub.execute_input": "2023-04-01T12:48:06.296414Z",
     "iopub.status.busy": "2023-04-01T12:48:06.295702Z",
     "iopub.status.idle": "2023-04-01T12:48:06.300096Z",
     "shell.execute_reply": "2023-04-01T12:48:06.299403Z"
    },
    "papermill": {
     "duration": 0.032317,
     "end_time": "2023-04-01T12:48:06.302039",
     "exception": false,
     "start_time": "2023-04-01T12:48:06.269722",
     "status": "completed"
    },
    "tags": []
   },
   "outputs": [],
   "source": [
    "q = list(month[\"Quantity\"])"
   ]
  },
  {
   "cell_type": "code",
   "execution_count": 45,
   "id": "0525bc86",
   "metadata": {
    "execution": {
     "iopub.execute_input": "2023-04-01T12:48:06.353232Z",
     "iopub.status.busy": "2023-04-01T12:48:06.352534Z",
     "iopub.status.idle": "2023-04-01T12:48:06.575229Z",
     "shell.execute_reply": "2023-04-01T12:48:06.574165Z"
    },
    "papermill": {
     "duration": 0.250779,
     "end_time": "2023-04-01T12:48:06.577571",
     "exception": false,
     "start_time": "2023-04-01T12:48:06.326792",
     "status": "completed"
    },
    "tags": []
   },
   "outputs": [
    {
     "data": {
      "text/plain": [
       "(array([3., 2., 3., 0., 0., 1., 2., 0., 0., 1.]),\n",
       " array([277989. , 324218.7, 370448.4, 416678.1, 462907.8, 509137.5,\n",
       "        555367.2, 601596.9, 647826.6, 694056.3, 740286. ]),\n",
       " <BarContainer object of 10 artists>)"
      ]
     },
     "execution_count": 45,
     "metadata": {},
     "output_type": "execute_result"
    },
    {
     "data": {
      "image/png": "[encoded data removed]",
      "text/plain": [
       "<Figure size 640x480 with 1 Axes>"
      ]
     },
     "metadata": {},
     "output_type": "display_data"
    }
   ],
   "source": [
    "plt.hist(month,edgecolor=\"black\")"
   ]
  },
  {
   "cell_type": "code",
   "execution_count": 46,
   "id": "270cff79",
   "metadata": {
    "execution": {
     "iopub.execute_input": "2023-04-01T12:48:06.628914Z",
     "iopub.status.busy": "2023-04-01T12:48:06.628134Z",
     "iopub.status.idle": "2023-04-01T12:48:06.844242Z",
     "shell.execute_reply": "2023-04-01T12:48:06.843192Z"
    },
    "papermill": {
     "duration": 0.244593,
     "end_time": "2023-04-01T12:48:06.846787",
     "exception": false,
     "start_time": "2023-04-01T12:48:06.602194",
     "status": "completed"
    },
    "tags": []
   },
   "outputs": [
    {
     "data": {
      "image/png": "[encoded data removed]",
      "text/plain": [
       "<Figure size 640x480 with 1 Axes>"
      ]
     },
     "metadata": {},
     "output_type": "display_data"
    }
   ],
   "source": [
    "fig, ax = plt.subplots()\n",
    "\n",
    "ax.bar(x=[1,2,3,4,5,6,7,8,9,10,11,12], height=q)\n",
    "plt.show()"
   ]
  },
  {
   "cell_type": "code",
   "execution_count": null,
   "id": "ec726287",
   "metadata": {
    "papermill": {
     "duration": 0.024255,
     "end_time": "2023-04-01T12:48:06.896028",
     "exception": false,
     "start_time": "2023-04-01T12:48:06.871773",
     "status": "completed"
    },
    "tags": []
   },
   "outputs": [],
   "source": []
  }
 ],
 "metadata": {
  "kernelspec": {
   "display_name": "Python 3",
   "language": "python",
   "name": "python3"
  },
  "language_info": {
   "codemirror_mode": {
    "name": "ipython",
    "version": 3
   },
   "file_extension": ".py",
   "mimetype": "text/x-python",
   "name": "python",
   "nbconvert_exporter": "python",
   "pygments_lexer": "ipython3",
   "version": "3.7.12"
  },
  "papermill": {
   "default_parameters": {},
   "duration": 30.870564,
   "end_time": "2023-04-01T12:48:07.742577",
   "environment_variables": {},
   "exception": null,
   "input_path": "__notebook__.ipynb",
   "output_path": "__notebook__.ipynb",
   "parameters": {},
   "start_time": "2023-04-01T12:47:36.872013",
   "version": "2.3.4"
  }
 },
 "nbformat": 4,
 "nbformat_minor": 5
}
